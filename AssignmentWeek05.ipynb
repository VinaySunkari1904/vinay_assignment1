{
 "cells": [
  {
   "cell_type": "markdown",
   "id": "4b62aa63-f630-4120-92de-2e4c42c8c823",
   "metadata": {},
   "source": [
    "## 1.Dataset Selection"
   ]
  },
  {
   "cell_type": "markdown",
   "id": "7c2f702c-6a9b-401b-9ccd-5a7409fbf572",
   "metadata": {},
   "source": [
    "The dataset is a healthcare dataset related to stroke prediction. Here's an overview of its structure and contents:\n",
    "Number of Rows: 5,110\n",
    "Number of Columns: 12\n",
    "Columns:\n",
    "\n",
    "*id*: Unique identifier for each individual.\n",
    "\n",
    "*gender*: Categorical variable indicating gender (Male, Female, Other).\n",
    "\n",
    "*age*: Numeric variable representing the age of the individual (range: 0.08 to 82 years).\n",
    "\n",
    "*hypertension*: Binary variable (0 = No, 1 = Yes) indicating whether the individual has hypertension.*\n",
    "\n",
    "*heart_disease*: Binary variable (0 = No, 1 = Yes) indicating if the individual has any heart disease.\n",
    "\n",
    "*ever_married*: Categorical variable indicating if the individual has ever been married (Yes, No).\n",
    "\n",
    "*work_type*: Categorical variable representing the type of employment (Private, Self-employed, Govt_job, Children, Never_worked).\n",
    "\n",
    "*Residence_type*: Categorical variable for place of residence (Urban, Rural).\n",
    "\n",
    "*avg_glucose_level*: Numeric variable representing the average glucose level.\n",
    "\n",
    "*bmi*: Numeric variable representing the body mass index (BMI). This column has some missing values (~4%).\n",
    "\n",
    "*smoking_status*: Categorical variable indicating the smoking habits (formerly smoked, never smoked, smokes, Unknown).\n",
    "\n",
    "*stroke*: Binary target variable (0 = No, 1 = Yes), indicating whether the individual had a stroke."
   ]
  },
  {
   "cell_type": "markdown",
   "id": "55a96c9a-d154-4011-811e-878ca2017560",
   "metadata": {},
   "source": [
    "## Objective\n",
    "The main objective is to analyze the dataset and predict the stroke."
   ]
  },
  {
   "cell_type": "markdown",
   "id": "ec244b8f-e92c-434c-b97f-d4f555bbf7c7",
   "metadata": {},
   "source": [
    "## 2. Data Loading and Cleaning"
   ]
  },
  {
   "cell_type": "code",
   "execution_count": 120,
   "id": "8d5991bd-72e5-4541-8494-624d80c5f445",
   "metadata": {},
   "outputs": [],
   "source": [
    "import pandas as pd"
   ]
  },
  {
   "cell_type": "code",
   "execution_count": 121,
   "id": "d87d9b3d-8170-4fc3-b074-e2b62f4c9966",
   "metadata": {},
   "outputs": [
    {
     "name": "stdout",
     "output_type": "stream",
     "text": [
      "Current working directory: C:\\Users\\vinay\n"
     ]
    }
   ],
   "source": [
    "import os\n",
    "\n",
    "# Getting the current working directory\n",
    "cwd = os.getcwd()\n",
    "\n",
    "# Print the current working directory\n",
    "print(\"Current working directory:\", cwd)"
   ]
  },
  {
   "cell_type": "code",
   "execution_count": 122,
   "id": "37b05314-d16e-44e7-b67b-f775c3378872",
   "metadata": {},
   "outputs": [
    {
     "name": "stdout",
     "output_type": "stream",
     "text": [
      "      id  gender   age  hypertension  heart_disease ever_married  \\\n",
      "0   9046    Male  67.0             0              1          Yes   \n",
      "1  51676  Female  61.0             0              0          Yes   \n",
      "2  31112    Male  80.0             0              1          Yes   \n",
      "3  60182  Female  49.0             0              0          Yes   \n",
      "4   1665  Female  79.0             1              0          Yes   \n",
      "5  56669    Male  81.0             0              0          Yes   \n",
      "6  53882    Male  74.0             1              1          Yes   \n",
      "7  10434  Female  69.0             0              0           No   \n",
      "8  27419  Female  59.0             0              0          Yes   \n",
      "9  60491  Female  78.0             0              0          Yes   \n",
      "\n",
      "       work_type Residence_type  avg_glucose_level   bmi   smoking_status  \\\n",
      "0        Private          Urban             228.69  36.6  formerly smoked   \n",
      "1  Self-employed          Rural             202.21   NaN     never smoked   \n",
      "2        Private          Rural             105.92  32.5     never smoked   \n",
      "3        Private          Urban             171.23  34.4           smokes   \n",
      "4  Self-employed          Rural             174.12  24.0     never smoked   \n",
      "5        Private          Urban             186.21  29.0  formerly smoked   \n",
      "6        Private          Rural              70.09  27.4     never smoked   \n",
      "7        Private          Urban              94.39  22.8     never smoked   \n",
      "8        Private          Rural              76.15   NaN          Unknown   \n",
      "9        Private          Urban              58.57  24.2          Unknown   \n",
      "\n",
      "   stroke  \n",
      "0       1  \n",
      "1       1  \n",
      "2       1  \n",
      "3       1  \n",
      "4       1  \n",
      "5       1  \n",
      "6       1  \n",
      "7       1  \n",
      "8       1  \n",
      "9       1  \n"
     ]
    }
   ],
   "source": [
    "# Loading the dataset into a Pandas DataFrame\n",
    "file_path = 'healthcare-dataset-stroke-data.csv'\n",
    "data = pd.read_csv(file_path)\n",
    "# Display the first few rows to verify loading\n",
    "print(data.head(10))"
   ]
  },
  {
   "cell_type": "code",
   "execution_count": 123,
   "id": "e907af46-fe92-45b8-b791-cd4fc5d7f25a",
   "metadata": {},
   "outputs": [
    {
     "name": "stdout",
     "output_type": "stream",
     "text": [
      "Index(['id', 'gender', 'age', 'hypertension', 'heart_disease', 'ever_married',\n",
      "       'work_type', 'Residence_type', 'avg_glucose_level', 'bmi',\n",
      "       'smoking_status', 'stroke'],\n",
      "      dtype='object')\n"
     ]
    }
   ],
   "source": [
    "#Getting all the columns in the dataset\n",
    "data.columns = data.columns.str.strip()\n",
    "print(data.columns)"
   ]
  },
  {
   "cell_type": "markdown",
   "id": "c9ea7bf7-62f3-42a2-9a68-d1127558bfd4",
   "metadata": {},
   "source": [
    "## Exploring the dataset"
   ]
  },
  {
   "cell_type": "code",
   "execution_count": 124,
   "id": "d583347d-4da5-48f2-97d3-b381d19f58b3",
   "metadata": {},
   "outputs": [
    {
     "name": "stdout",
     "output_type": "stream",
     "text": [
      "<class 'pandas.core.frame.DataFrame'>\n",
      "RangeIndex: 5110 entries, 0 to 5109\n",
      "Data columns (total 12 columns):\n",
      " #   Column             Non-Null Count  Dtype  \n",
      "---  ------             --------------  -----  \n",
      " 0   id                 5110 non-null   int64  \n",
      " 1   gender             5110 non-null   object \n",
      " 2   age                5110 non-null   float64\n",
      " 3   hypertension       5110 non-null   int64  \n",
      " 4   heart_disease      5110 non-null   int64  \n",
      " 5   ever_married       5110 non-null   object \n",
      " 6   work_type          5110 non-null   object \n",
      " 7   Residence_type     5110 non-null   object \n",
      " 8   avg_glucose_level  5110 non-null   float64\n",
      " 9   bmi                4909 non-null   float64\n",
      " 10  smoking_status     5110 non-null   object \n",
      " 11  stroke             5110 non-null   int64  \n",
      "dtypes: float64(3), int64(4), object(5)\n",
      "memory usage: 479.2+ KB\n"
     ]
    }
   ],
   "source": [
    "data.info()"
   ]
  },
  {
   "cell_type": "markdown",
   "id": "80d7d0e6-3e12-4aeb-a5ae-5b4be56251ab",
   "metadata": {},
   "source": [
    "## statistical summary"
   ]
  },
  {
   "cell_type": "code",
   "execution_count": 125,
   "id": "9a93fe5f-60c9-48fd-8c7c-17e417c13dc5",
   "metadata": {},
   "outputs": [
    {
     "data": {
      "text/html": [
       "<div>\n",
       "<style scoped>\n",
       "    .dataframe tbody tr th:only-of-type {\n",
       "        vertical-align: middle;\n",
       "    }\n",
       "\n",
       "    .dataframe tbody tr th {\n",
       "        vertical-align: top;\n",
       "    }\n",
       "\n",
       "    .dataframe thead th {\n",
       "        text-align: right;\n",
       "    }\n",
       "</style>\n",
       "<table border=\"1\" class=\"dataframe\">\n",
       "  <thead>\n",
       "    <tr style=\"text-align: right;\">\n",
       "      <th></th>\n",
       "      <th>id</th>\n",
       "      <th>gender</th>\n",
       "      <th>age</th>\n",
       "      <th>hypertension</th>\n",
       "      <th>heart_disease</th>\n",
       "      <th>ever_married</th>\n",
       "      <th>work_type</th>\n",
       "      <th>Residence_type</th>\n",
       "      <th>avg_glucose_level</th>\n",
       "      <th>bmi</th>\n",
       "      <th>smoking_status</th>\n",
       "      <th>stroke</th>\n",
       "    </tr>\n",
       "  </thead>\n",
       "  <tbody>\n",
       "    <tr>\n",
       "      <th>count</th>\n",
       "      <td>5110.000000</td>\n",
       "      <td>5110</td>\n",
       "      <td>5110.000000</td>\n",
       "      <td>5110.000000</td>\n",
       "      <td>5110.000000</td>\n",
       "      <td>5110</td>\n",
       "      <td>5110</td>\n",
       "      <td>5110</td>\n",
       "      <td>5110.000000</td>\n",
       "      <td>4909.000000</td>\n",
       "      <td>5110</td>\n",
       "      <td>5110.000000</td>\n",
       "    </tr>\n",
       "    <tr>\n",
       "      <th>unique</th>\n",
       "      <td>NaN</td>\n",
       "      <td>3</td>\n",
       "      <td>NaN</td>\n",
       "      <td>NaN</td>\n",
       "      <td>NaN</td>\n",
       "      <td>2</td>\n",
       "      <td>5</td>\n",
       "      <td>2</td>\n",
       "      <td>NaN</td>\n",
       "      <td>NaN</td>\n",
       "      <td>4</td>\n",
       "      <td>NaN</td>\n",
       "    </tr>\n",
       "    <tr>\n",
       "      <th>top</th>\n",
       "      <td>NaN</td>\n",
       "      <td>Female</td>\n",
       "      <td>NaN</td>\n",
       "      <td>NaN</td>\n",
       "      <td>NaN</td>\n",
       "      <td>Yes</td>\n",
       "      <td>Private</td>\n",
       "      <td>Urban</td>\n",
       "      <td>NaN</td>\n",
       "      <td>NaN</td>\n",
       "      <td>never smoked</td>\n",
       "      <td>NaN</td>\n",
       "    </tr>\n",
       "    <tr>\n",
       "      <th>freq</th>\n",
       "      <td>NaN</td>\n",
       "      <td>2994</td>\n",
       "      <td>NaN</td>\n",
       "      <td>NaN</td>\n",
       "      <td>NaN</td>\n",
       "      <td>3353</td>\n",
       "      <td>2925</td>\n",
       "      <td>2596</td>\n",
       "      <td>NaN</td>\n",
       "      <td>NaN</td>\n",
       "      <td>1892</td>\n",
       "      <td>NaN</td>\n",
       "    </tr>\n",
       "    <tr>\n",
       "      <th>mean</th>\n",
       "      <td>36517.829354</td>\n",
       "      <td>NaN</td>\n",
       "      <td>43.226614</td>\n",
       "      <td>0.097456</td>\n",
       "      <td>0.054012</td>\n",
       "      <td>NaN</td>\n",
       "      <td>NaN</td>\n",
       "      <td>NaN</td>\n",
       "      <td>106.147677</td>\n",
       "      <td>28.893237</td>\n",
       "      <td>NaN</td>\n",
       "      <td>0.048728</td>\n",
       "    </tr>\n",
       "    <tr>\n",
       "      <th>std</th>\n",
       "      <td>21161.721625</td>\n",
       "      <td>NaN</td>\n",
       "      <td>22.612647</td>\n",
       "      <td>0.296607</td>\n",
       "      <td>0.226063</td>\n",
       "      <td>NaN</td>\n",
       "      <td>NaN</td>\n",
       "      <td>NaN</td>\n",
       "      <td>45.283560</td>\n",
       "      <td>7.854067</td>\n",
       "      <td>NaN</td>\n",
       "      <td>0.215320</td>\n",
       "    </tr>\n",
       "    <tr>\n",
       "      <th>min</th>\n",
       "      <td>67.000000</td>\n",
       "      <td>NaN</td>\n",
       "      <td>0.080000</td>\n",
       "      <td>0.000000</td>\n",
       "      <td>0.000000</td>\n",
       "      <td>NaN</td>\n",
       "      <td>NaN</td>\n",
       "      <td>NaN</td>\n",
       "      <td>55.120000</td>\n",
       "      <td>10.300000</td>\n",
       "      <td>NaN</td>\n",
       "      <td>0.000000</td>\n",
       "    </tr>\n",
       "    <tr>\n",
       "      <th>25%</th>\n",
       "      <td>17741.250000</td>\n",
       "      <td>NaN</td>\n",
       "      <td>25.000000</td>\n",
       "      <td>0.000000</td>\n",
       "      <td>0.000000</td>\n",
       "      <td>NaN</td>\n",
       "      <td>NaN</td>\n",
       "      <td>NaN</td>\n",
       "      <td>77.245000</td>\n",
       "      <td>23.500000</td>\n",
       "      <td>NaN</td>\n",
       "      <td>0.000000</td>\n",
       "    </tr>\n",
       "    <tr>\n",
       "      <th>50%</th>\n",
       "      <td>36932.000000</td>\n",
       "      <td>NaN</td>\n",
       "      <td>45.000000</td>\n",
       "      <td>0.000000</td>\n",
       "      <td>0.000000</td>\n",
       "      <td>NaN</td>\n",
       "      <td>NaN</td>\n",
       "      <td>NaN</td>\n",
       "      <td>91.885000</td>\n",
       "      <td>28.100000</td>\n",
       "      <td>NaN</td>\n",
       "      <td>0.000000</td>\n",
       "    </tr>\n",
       "    <tr>\n",
       "      <th>75%</th>\n",
       "      <td>54682.000000</td>\n",
       "      <td>NaN</td>\n",
       "      <td>61.000000</td>\n",
       "      <td>0.000000</td>\n",
       "      <td>0.000000</td>\n",
       "      <td>NaN</td>\n",
       "      <td>NaN</td>\n",
       "      <td>NaN</td>\n",
       "      <td>114.090000</td>\n",
       "      <td>33.100000</td>\n",
       "      <td>NaN</td>\n",
       "      <td>0.000000</td>\n",
       "    </tr>\n",
       "    <tr>\n",
       "      <th>max</th>\n",
       "      <td>72940.000000</td>\n",
       "      <td>NaN</td>\n",
       "      <td>82.000000</td>\n",
       "      <td>1.000000</td>\n",
       "      <td>1.000000</td>\n",
       "      <td>NaN</td>\n",
       "      <td>NaN</td>\n",
       "      <td>NaN</td>\n",
       "      <td>271.740000</td>\n",
       "      <td>97.600000</td>\n",
       "      <td>NaN</td>\n",
       "      <td>1.000000</td>\n",
       "    </tr>\n",
       "  </tbody>\n",
       "</table>\n",
       "</div>"
      ],
      "text/plain": [
       "                  id  gender          age  hypertension  heart_disease  \\\n",
       "count    5110.000000    5110  5110.000000   5110.000000    5110.000000   \n",
       "unique           NaN       3          NaN           NaN            NaN   \n",
       "top              NaN  Female          NaN           NaN            NaN   \n",
       "freq             NaN    2994          NaN           NaN            NaN   \n",
       "mean    36517.829354     NaN    43.226614      0.097456       0.054012   \n",
       "std     21161.721625     NaN    22.612647      0.296607       0.226063   \n",
       "min        67.000000     NaN     0.080000      0.000000       0.000000   \n",
       "25%     17741.250000     NaN    25.000000      0.000000       0.000000   \n",
       "50%     36932.000000     NaN    45.000000      0.000000       0.000000   \n",
       "75%     54682.000000     NaN    61.000000      0.000000       0.000000   \n",
       "max     72940.000000     NaN    82.000000      1.000000       1.000000   \n",
       "\n",
       "       ever_married work_type Residence_type  avg_glucose_level          bmi  \\\n",
       "count          5110      5110           5110        5110.000000  4909.000000   \n",
       "unique            2         5              2                NaN          NaN   \n",
       "top             Yes   Private          Urban                NaN          NaN   \n",
       "freq           3353      2925           2596                NaN          NaN   \n",
       "mean            NaN       NaN            NaN         106.147677    28.893237   \n",
       "std             NaN       NaN            NaN          45.283560     7.854067   \n",
       "min             NaN       NaN            NaN          55.120000    10.300000   \n",
       "25%             NaN       NaN            NaN          77.245000    23.500000   \n",
       "50%             NaN       NaN            NaN          91.885000    28.100000   \n",
       "75%             NaN       NaN            NaN         114.090000    33.100000   \n",
       "max             NaN       NaN            NaN         271.740000    97.600000   \n",
       "\n",
       "       smoking_status       stroke  \n",
       "count            5110  5110.000000  \n",
       "unique              4          NaN  \n",
       "top      never smoked          NaN  \n",
       "freq             1892          NaN  \n",
       "mean              NaN     0.048728  \n",
       "std               NaN     0.215320  \n",
       "min               NaN     0.000000  \n",
       "25%               NaN     0.000000  \n",
       "50%               NaN     0.000000  \n",
       "75%               NaN     0.000000  \n",
       "max               NaN     1.000000  "
      ]
     },
     "execution_count": 125,
     "metadata": {},
     "output_type": "execute_result"
    }
   ],
   "source": [
    "data.describe(include='all')"
   ]
  },
  {
   "cell_type": "markdown",
   "id": "0903fbfe-984e-4769-9f86-58d77153dd99",
   "metadata": {},
   "source": [
    "### Identifying Categorical Columns\n",
    "\n",
    "In this dataset, some columns are categorical even if they are represented with numerical values. We need to manually specify these columns to ensure proper processing."
   ]
  },
  {
   "cell_type": "code",
   "execution_count": 126,
   "id": "836162e8-5b47-4ecd-9acf-7b9400fdedf3",
   "metadata": {},
   "outputs": [
    {
     "name": "stdout",
     "output_type": "stream",
     "text": [
      "Categorical Columns: ['gender', 'ever_married', 'work_type', 'Residence_type', 'smoking_status']\n"
     ]
    }
   ],
   "source": [
    "# Manually specifying categorical columns\n",
    "categorical_cols = ['gender','ever_married', 'work_type', 'Residence_type', 'smoking_status']\n",
    "\n",
    "# Explanation of categorical columns\n",
    "print(\"Categorical Columns:\", categorical_cols)"
   ]
  },
  {
   "cell_type": "code",
   "execution_count": 127,
   "id": "bbf4878f-250c-4d8c-acbb-2fbd0955561a",
   "metadata": {},
   "outputs": [
    {
     "name": "stdout",
     "output_type": "stream",
     "text": [
      "Numerical Columns: Index(['id', 'age', 'hypertension', 'heart_disease', 'avg_glucose_level',\n",
      "       'bmi', 'stroke'],\n",
      "      dtype='object')\n"
     ]
    }
   ],
   "source": [
    "# Getting all numerical columns\n",
    "numerical_columns = data.select_dtypes(include=['int64', 'float64']).columns\n",
    "\n",
    "# Displaying the numerical columns\n",
    "print(\"Numerical Columns:\", numerical_columns)"
   ]
  },
  {
   "cell_type": "markdown",
   "id": "8c7a908c-0552-41c8-9391-1a01ff16242f",
   "metadata": {},
   "source": [
    "## Getting Nominal cloumns"
   ]
  },
  {
   "cell_type": "code",
   "execution_count": 128,
   "id": "2b6696e8-67be-45d3-8e89-a70d6b42f508",
   "metadata": {},
   "outputs": [
    {
     "name": "stdout",
     "output_type": "stream",
     "text": [
      "Nominal Columns: ['gender', 'ever_married', 'Residence_type']\n"
     ]
    }
   ],
   "source": [
    "# Strip any leading/trailing whitespace from column names\n",
    "data.columns = data.columns.str.strip()\n",
    "\n",
    "# Identify categorical columns\n",
    "categorical_columns = data.select_dtypes(include=['object']).columns.tolist()\n",
    "\n",
    "# Define a set of ordinal columns (based on your earlier analysis or understanding)\n",
    "ordinal_columns = ['work_type', 'smoking_status']  # Update this list with your ordinal variables\n",
    "\n",
    "# Identify nominal columns (categorical columns that are NOT in the ordinal list)\n",
    "nominal_columns = [col for col in categorical_columns if col not in ordinal_columns]\n",
    "\n",
    "# Print the nominal columns\n",
    "print(\"Nominal Columns:\", nominal_columns)"
   ]
  },
  {
   "cell_type": "markdown",
   "id": "c80fb416-1e9c-4831-b95a-56c77bb2c4e7",
   "metadata": {},
   "source": [
    "## Getting categorical columns"
   ]
  },
  {
   "cell_type": "code",
   "execution_count": 129,
   "id": "00a8060f-1294-48e9-a079-4bc813a66aae",
   "metadata": {},
   "outputs": [
    {
     "name": "stdout",
     "output_type": "stream",
     "text": [
      "Categorical Columns: ['gender', 'ever_married', 'work_type', 'Residence_type', 'smoking_status']\n",
      "Unique values in 'gender': ['Male' 'Female' 'Other']\n",
      "--------------------------------------------------\n",
      "Unique values in 'ever_married': ['Yes' 'No']\n",
      "--------------------------------------------------\n",
      "Unique values in 'work_type': ['Private' 'Self-employed' 'Govt_job' 'children' 'Never_worked']\n",
      "--------------------------------------------------\n",
      "Unique values in 'Residence_type': ['Urban' 'Rural']\n",
      "--------------------------------------------------\n",
      "Unique values in 'smoking_status': ['formerly smoked' 'never smoked' 'smokes' 'Unknown']\n",
      "--------------------------------------------------\n"
     ]
    }
   ],
   "source": [
    "data.columns = data.columns.str.strip()\n",
    "\n",
    "# Identify categorical columns\n",
    "categorical_columns = data.select_dtypes(include=['object']).columns.tolist()\n",
    "\n",
    "# Print the categorical columns\n",
    "print(\"Categorical Columns:\", categorical_columns)\n",
    "\n",
    "# Show unique values in each categorical column\n",
    "for col in categorical_columns:\n",
    "    print(f\"Unique values in '{col}': {data[col].unique()}\")\n",
    "    print('-' * 50)"
   ]
  },
  {
   "cell_type": "markdown",
   "id": "89cacb69-1035-496d-b09d-e491e10d60b6",
   "metadata": {},
   "source": [
    "## Checking for Missing Values\n",
    "\n",
    "Before proceeding, it's important to check for missing values in the dataset."
   ]
  },
  {
   "cell_type": "code",
   "execution_count": 130,
   "id": "02ddb284-9889-4189-a414-ed21f552495b",
   "metadata": {},
   "outputs": [
    {
     "data": {
      "text/plain": [
       "id                     0\n",
       "gender                 0\n",
       "age                    0\n",
       "hypertension           0\n",
       "heart_disease          0\n",
       "ever_married           0\n",
       "work_type              0\n",
       "Residence_type         0\n",
       "avg_glucose_level      0\n",
       "bmi                  201\n",
       "smoking_status         0\n",
       "stroke                 0\n",
       "dtype: int64"
      ]
     },
     "execution_count": 130,
     "metadata": {},
     "output_type": "execute_result"
    }
   ],
   "source": [
    "data.isnull().sum()"
   ]
  },
  {
   "cell_type": "markdown",
   "id": "65514d9f-e346-43f3-96cf-d08915a8ffe5",
   "metadata": {},
   "source": [
    "Hence, BMI colums has missing values we will drop the rows with missing values."
   ]
  },
  {
   "cell_type": "markdown",
   "id": "adc14f0b-eee3-4816-b101-8f934f505b70",
   "metadata": {},
   "source": [
    "## Identifying and Dropping Rows with More Than 3 Missing Values"
   ]
  },
  {
   "cell_type": "code",
   "execution_count": 131,
   "id": "f49c3f7b-018e-410d-962f-322d13209e69",
   "metadata": {},
   "outputs": [
    {
     "name": "stdout",
     "output_type": "stream",
     "text": [
      "Dropped 0 rows with more than 3 missing values.\n"
     ]
    }
   ],
   "source": [
    "# Count missing values per row\n",
    "missing_values_per_row = data.isnull().sum(axis=1)\n",
    "\n",
    "# Identify rows to drop\n",
    "rows_to_drop = missing_values_per_row[missing_values_per_row > 3].index\n",
    "\n",
    "# Drop the rows\n",
    "data.drop(index=rows_to_drop, inplace=True)\n",
    "\n",
    "print(f\"Dropped {len(rows_to_drop)} rows with more than 3 missing values.\")"
   ]
  },
  {
   "cell_type": "code",
   "execution_count": 132,
   "id": "f24da37b-bc53-459c-ab52-1100d3a7d2f5",
   "metadata": {},
   "outputs": [
    {
     "name": "stdout",
     "output_type": "stream",
     "text": [
      "Remaining rows after dropping missing 'bmi' values: 4909\n",
      "      id  gender   age  hypertension  heart_disease ever_married  \\\n",
      "0   9046    Male  67.0             0              1          Yes   \n",
      "2  31112    Male  80.0             0              1          Yes   \n",
      "3  60182  Female  49.0             0              0          Yes   \n",
      "4   1665  Female  79.0             1              0          Yes   \n",
      "5  56669    Male  81.0             0              0          Yes   \n",
      "\n",
      "       work_type Residence_type  avg_glucose_level   bmi   smoking_status  \\\n",
      "0        Private          Urban             228.69  36.6  formerly smoked   \n",
      "2        Private          Rural             105.92  32.5     never smoked   \n",
      "3        Private          Urban             171.23  34.4           smokes   \n",
      "4  Self-employed          Rural             174.12  24.0     never smoked   \n",
      "5        Private          Urban             186.21  29.0  formerly smoked   \n",
      "\n",
      "   stroke  \n",
      "0       1  \n",
      "2       1  \n",
      "3       1  \n",
      "4       1  \n",
      "5       1  \n"
     ]
    }
   ],
   "source": [
    "# Strip any leading/trailing whitespace from column names\n",
    "data.columns = data.columns.str.strip()\n",
    "\n",
    "# Drop rows where 'bmi' is missing\n",
    "data = data.dropna(subset=['bmi'])\n",
    "\n",
    "# Display the number of remaining rows and the first few rows\n",
    "print(f\"Remaining rows after dropping missing 'bmi' values: {data.shape[0]}\")\n",
    "print(data.head())"
   ]
  },
  {
   "cell_type": "markdown",
   "id": "bae57ee0-92e5-4d77-a4f9-6d2194ec7d61",
   "metadata": {},
   "source": [
    "## Identifying and Dropping Columns with More Than 30% Missing Values\n",
    "\n",
    "Next, we'll identify columns with more than 30% missing values and drop them."
   ]
  },
  {
   "cell_type": "code",
   "execution_count": 133,
   "id": "d9d2ab67-3859-45f2-b992-2fab58fa7cb5",
   "metadata": {},
   "outputs": [
    {
     "name": "stdout",
     "output_type": "stream",
     "text": [
      "Dropped columns: []\n"
     ]
    }
   ],
   "source": [
    "# Calculate the percentage of missing values per column\n",
    "missing_values_per_column = data.isnull().mean()\n",
    "\n",
    "# Identify columns to drop\n",
    "columns_to_drop = missing_values_per_column[missing_values_per_column > 0.3].index\n",
    "\n",
    "# Drop the columns\n",
    "data.drop(columns=columns_to_drop, inplace=True)\n",
    "\n",
    "print(f\"Dropped columns: {list(columns_to_drop)}\")"
   ]
  },
  {
   "cell_type": "code",
   "execution_count": 134,
   "id": "2b08b800-800a-49d0-bb93-2719324c0d7b",
   "metadata": {},
   "outputs": [],
   "source": [
    "#data.dropna(inplace=True)"
   ]
  },
  {
   "cell_type": "code",
   "execution_count": 135,
   "id": "5e9352d1-9f58-4faf-8067-b8b763c94293",
   "metadata": {},
   "outputs": [
    {
     "name": "stdout",
     "output_type": "stream",
     "text": [
      "\n",
      "Missing Values After Handling:\n",
      " Series([], dtype: int64)\n"
     ]
    }
   ],
   "source": [
    "missing_data_after = data.isnull().sum()\n",
    "print(\"\\nMissing Values After Handling:\\n\", missing_data_after[missing_data_after > 0])"
   ]
  },
  {
   "cell_type": "code",
   "execution_count": 136,
   "id": "daae6708-0bed-4118-b6e0-a91541ce1af6",
   "metadata": {},
   "outputs": [
    {
     "name": "stdout",
     "output_type": "stream",
     "text": [
      "Index(['id', 'gender', 'age', 'hypertension', 'heart_disease', 'ever_married',\n",
      "       'work_type', 'Residence_type', 'avg_glucose_level', 'bmi',\n",
      "       'smoking_status', 'stroke'],\n",
      "      dtype='object')\n"
     ]
    }
   ],
   "source": [
    "print(data.columns)"
   ]
  },
  {
   "cell_type": "markdown",
   "id": "ca220132-b712-4e35-9dd7-2754e53b8f1e",
   "metadata": {},
   "source": [
    "## Identifying Nominal and Ordinal Variables"
   ]
  },
  {
   "cell_type": "code",
   "execution_count": 137,
   "id": "0f30a745-1290-46de-8f2e-7f12364edce9",
   "metadata": {},
   "outputs": [
    {
     "name": "stdout",
     "output_type": "stream",
     "text": [
      "\n",
      "Nominal Variables: ['gender', 'ever_married', 'Residence_type', 'smoking_status']\n",
      "Ordinal Variables: ['work_type']\n"
     ]
    }
   ],
   "source": [
    "nominal_variables = ['gender', 'ever_married', 'Residence_type', 'smoking_status']\n",
    "ordinal_variables = ['work_type']  # Assuming 'work_type' has an inherent order\n",
    "\n",
    "# Display the results\n",
    "print(\"\\nNominal Variables:\", nominal_variables)\n",
    "print(\"Ordinal Variables:\", ordinal_variables)"
   ]
  },
  {
   "cell_type": "code",
   "execution_count": 138,
   "id": "bbe24811-c1bb-4e17-8103-8d57c0f78b60",
   "metadata": {},
   "outputs": [
    {
     "name": "stdout",
     "output_type": "stream",
     "text": [
      "Index(['id', 'gender', 'age', 'hypertension', 'heart_disease', 'ever_married',\n",
      "       'work_type', 'Residence_type', 'avg_glucose_level', 'bmi',\n",
      "       'smoking_status', 'stroke'],\n",
      "      dtype='object')\n"
     ]
    }
   ],
   "source": [
    "print(data.columns)"
   ]
  },
  {
   "cell_type": "markdown",
   "id": "993229a3-ad6e-4833-8e08-83717c54293c",
   "metadata": {},
   "source": [
    "Nominal variables: They don't naturally follow a sequence. Examples are status as a smoker and gender.\n",
    "Ordinal Variables: These are ranked or have a set order. If you think there is a hierarchy, one example would be the kind of work (private, government, self-employed, etc)."
   ]
  },
  {
   "cell_type": "markdown",
   "id": "ab57f86d-6ad4-4406-8e5d-a9e73d9ef79e",
   "metadata": {},
   "source": [
    "The dataset contains the following columns:\n",
    "\n",
    "id: Unique identifier for each record.\n",
    "gender: Categorical variable (Male/Female).\n",
    "age: Continuous variable.\n",
    "hypertension: Binary variable (0 or 1).\n",
    "heart_disease: Binary variable (0 or 1).\n",
    "ever_married: Categorical variable (Yes/No).\n",
    "work_type: Categorical variable with multiple levels.\n",
    "Residence_type: Categorical variable (Urban/Rural).\n",
    "avg_glucose_level: Continuous variable.\n",
    "bmi: Continuous variable with some missing values.\n",
    "smoking_status: Categorical variable (formerly smoked, never smoked, smokes, unknown).\n",
    "stroke: Binary variable (0 or 1)."
   ]
  },
  {
   "cell_type": "markdown",
   "id": "cda68a41-d324-4bd8-ba8a-cd8a75904596",
   "metadata": {},
   "source": [
    "## Ordinal Encoding for Ordered Variables"
   ]
  },
  {
   "cell_type": "code",
   "execution_count": 139,
   "id": "f3e4b9ca-496a-4876-b911-0bc87f1427a7",
   "metadata": {},
   "outputs": [
    {
     "name": "stdout",
     "output_type": "stream",
     "text": [
      "      gender  gender_encoded ever_married  ever_married_encoded  \\\n",
      "0       Male             0.0          Yes                   1.0   \n",
      "2       Male             0.0          Yes                   1.0   \n",
      "3     Female             1.0          Yes                   1.0   \n",
      "4     Female             1.0          Yes                   1.0   \n",
      "5       Male             0.0          Yes                   1.0   \n",
      "...      ...             ...          ...                   ...   \n",
      "5104  Female             1.0           No                   0.0   \n",
      "5106  Female             1.0          Yes                   1.0   \n",
      "5107  Female             1.0          Yes                   1.0   \n",
      "5108    Male             0.0          Yes                   1.0   \n",
      "5109  Female             1.0          Yes                   1.0   \n",
      "\n",
      "          work_type  work_type_encoded Residence_type  Residence_type_encoded  \\\n",
      "0           Private                3.0          Urban                     1.0   \n",
      "2           Private                3.0          Rural                     0.0   \n",
      "3           Private                3.0          Urban                     1.0   \n",
      "4     Self-employed                4.0          Rural                     0.0   \n",
      "5           Private                3.0          Urban                     1.0   \n",
      "...             ...                ...            ...                     ...   \n",
      "5104       children                0.0          Rural                     0.0   \n",
      "5106  Self-employed                4.0          Urban                     1.0   \n",
      "5107  Self-employed                4.0          Rural                     0.0   \n",
      "5108        Private                3.0          Rural                     0.0   \n",
      "5109       Govt_job                1.0          Urban                     1.0   \n",
      "\n",
      "       smoking_status  smoking_status_encoded  stroke  \n",
      "0     formerly smoked                     1.0       1  \n",
      "2        never smoked                     0.0       1  \n",
      "3              smokes                     2.0       1  \n",
      "4        never smoked                     0.0       1  \n",
      "5     formerly smoked                     1.0       1  \n",
      "...               ...                     ...     ...  \n",
      "5104          Unknown                     3.0       0  \n",
      "5106     never smoked                     0.0       0  \n",
      "5107     never smoked                     0.0       0  \n",
      "5108  formerly smoked                     1.0       0  \n",
      "5109          Unknown                     3.0       0  \n",
      "\n",
      "[4909 rows x 11 columns]\n"
     ]
    }
   ],
   "source": [
    "\n",
    "\n",
    "# Define the orders for the categorical columns\n",
    "gender_order = ['Male', 'Female', 'Other']  # Ordinal order for gender (if needed)\n",
    "ever_married_order = ['No', 'Yes']  # Ordinal order for ever_married\n",
    "work_type_order = ['children', 'Govt_job', 'Never_worked', 'Private', 'Self-employed']  # Ordinal order for work_type\n",
    "residence_type_order = ['Rural', 'Urban']  # Ordinal order for Residence_type\n",
    "smoking_status_order = ['never smoked', 'formerly smoked', 'smokes', 'Unknown']\n",
    "#stroke_order = [1,0,1,0]\n",
    "\n",
    "# Initialize the OrdinalEncoder for each column\n",
    "ordinal_encoder_gender = OrdinalEncoder(categories=[gender_order])\n",
    "ordinal_encoder_ever_married = OrdinalEncoder(categories=[ever_married_order])\n",
    "ordinal_encoder_work_type = OrdinalEncoder(categories=[work_type_order])\n",
    "ordinal_encoder_residence_type = OrdinalEncoder(categories=[residence_type_order])\n",
    "ordinal_encoder_smoking_status = OrdinalEncoder(categories=[smoking_status_order])\n",
    "#ordinal_encoder_stroke_status = OrdinalEncoder(categories=[stroke_order])\n",
    "\n",
    "# Encode the columns\n",
    "data['gender_encoded'] = ordinal_encoder_gender.fit_transform(data[['gender']])\n",
    "data['ever_married_encoded'] = ordinal_encoder_ever_married.fit_transform(data[['ever_married']])\n",
    "data['work_type_encoded'] = ordinal_encoder_work_type.fit_transform(data[['work_type']])\n",
    "data['Residence_type_encoded'] = ordinal_encoder_residence_type.fit_transform(data[['Residence_type']])\n",
    "data['smoking_status_encoded'] = ordinal_encoder_smoking_status.fit_transform(data[['smoking_status']])\n",
    "#data['stroke_status_encoded'] = ordinal_encoder_smoking_status.fit_transform(data[['stroke_status']])\n",
    "# Display the updated dataset with the encoded columns\n",
    "print(data[['gender', 'gender_encoded', \n",
    "            'ever_married', 'ever_married_encoded', \n",
    "            'work_type', 'work_type_encoded', \n",
    "            'Residence_type', 'Residence_type_encoded',\n",
    "                'smoking_status', 'smoking_status_encoded','stroke']])"
   ]
  },
  {
   "cell_type": "code",
   "execution_count": 140,
   "id": "d6bbf4bf-8e17-4d92-93bf-32d97da087d7",
   "metadata": {},
   "outputs": [
    {
     "name": "stdout",
     "output_type": "stream",
     "text": [
      "Index(['id', 'gender', 'age', 'hypertension', 'heart_disease', 'ever_married',\n",
      "       'work_type', 'Residence_type', 'avg_glucose_level', 'bmi',\n",
      "       'smoking_status', 'stroke', 'gender_encoded', 'ever_married_encoded',\n",
      "       'work_type_encoded', 'Residence_type_encoded',\n",
      "       'smoking_status_encoded'],\n",
      "      dtype='object')\n"
     ]
    }
   ],
   "source": [
    "print(data.columns)"
   ]
  },
  {
   "cell_type": "markdown",
   "id": "0e2b9e48-a09f-497a-bb41-e7fbe0323287",
   "metadata": {},
   "source": [
    "This will give us a new columns  that contains ordinal values based on the order, which we can then use for further analysis."
   ]
  },
  {
   "cell_type": "markdown",
   "id": "dad6516a-2aeb-43ef-9fb7-f087c6a7e4b8",
   "metadata": {},
   "source": [
    "## One-Hot Encoding for Nominal Variables"
   ]
  },
  {
   "cell_type": "markdown",
   "id": "3778e29c-ead3-4f65-9b41-16a2163b4eac",
   "metadata": {},
   "source": [
    "One-Hot Encoding is a method for improving predictions by transforming categorical information into a format that machine learning algorithms can exploit. "
   ]
  },
  {
   "cell_type": "markdown",
   "id": "65a46104-eeaa-4221-b927-eaa63b87bd15",
   "metadata": {},
   "source": [
    "In our dataset gender ever_married,work_type,Residence_type,smoking_status (though this was previously identified as ordered, it can also be treated as nominal)"
   ]
  },
  {
   "cell_type": "code",
   "execution_count": 141,
   "id": "e96b2338-eb29-4a41-bb0e-3fbaf21dec0b",
   "metadata": {},
   "outputs": [
    {
     "name": "stdout",
     "output_type": "stream",
     "text": [
      "      id   age  hypertension  heart_disease  avg_glucose_level   bmi  stroke  \\\n",
      "0   9046  67.0             0              1             228.69  36.6       1   \n",
      "2  31112  80.0             0              1             105.92  32.5       1   \n",
      "3  60182  49.0             0              0             171.23  34.4       1   \n",
      "4   1665  79.0             1              0             174.12  24.0       1   \n",
      "5  56669  81.0             0              0             186.21  29.0       1   \n",
      "\n",
      "   gender_encoded  ever_married_encoded  work_type_encoded  \\\n",
      "0             0.0                   1.0                3.0   \n",
      "2             0.0                   1.0                3.0   \n",
      "3             1.0                   1.0                3.0   \n",
      "4             1.0                   1.0                4.0   \n",
      "5             0.0                   1.0                3.0   \n",
      "\n",
      "   Residence_type_encoded  smoking_status_encoded  gender_Male  gender_Other  \\\n",
      "0                     1.0                     1.0         True         False   \n",
      "2                     0.0                     0.0         True         False   \n",
      "3                     1.0                     2.0        False         False   \n",
      "4                     0.0                     0.0        False         False   \n",
      "5                     1.0                     1.0         True         False   \n",
      "\n",
      "   ever_married_Yes  work_type_Never_worked  work_type_Private  \\\n",
      "0              True                   False               True   \n",
      "2              True                   False               True   \n",
      "3              True                   False               True   \n",
      "4              True                   False              False   \n",
      "5              True                   False               True   \n",
      "\n",
      "   work_type_Self-employed  work_type_children  Residence_type_Urban  \\\n",
      "0                    False               False                  True   \n",
      "2                    False               False                 False   \n",
      "3                    False               False                  True   \n",
      "4                     True               False                 False   \n",
      "5                    False               False                  True   \n",
      "\n",
      "   smoking_status_formerly smoked  smoking_status_never smoked  \\\n",
      "0                            True                        False   \n",
      "2                           False                         True   \n",
      "3                           False                        False   \n",
      "4                           False                         True   \n",
      "5                            True                        False   \n",
      "\n",
      "   smoking_status_smokes  \n",
      "0                  False  \n",
      "2                  False  \n",
      "3                   True  \n",
      "4                  False  \n",
      "5                  False  \n"
     ]
    }
   ],
   "source": [
    "# Performing  One-Hot Encoding on nominal variables\n",
    "nominal_variables = ['gender', 'ever_married', 'work_type', 'Residence_type', 'smoking_status']\n",
    "\n",
    "# Using get_dummies to create one-hot encoded variables\n",
    "data_encoded = pd.get_dummies(data, columns=nominal_variables, drop_first=True)\n",
    "\n",
    "# Displaying  the first few rows of the encoded dataset\n",
    "print(data_encoded.head())"
   ]
  },
  {
   "cell_type": "markdown",
   "id": "48ef6aed-c5c9-45f2-9940-54f419d035d8",
   "metadata": {},
   "source": [
    "## Splitting the Data into Training and Test Sets\n",
    "\n",
    "To prepare the data for modeling, we'll split it into training and test sets. We'll use an 80/20 split."
   ]
  },
  {
   "cell_type": "code",
   "execution_count": 142,
   "id": "b183945f-b8bb-463d-9b94-055eae123a95",
   "metadata": {},
   "outputs": [
    {
     "name": "stdout",
     "output_type": "stream",
     "text": [
      "Index(['id', 'gender', 'age', 'hypertension', 'heart_disease', 'ever_married',\n",
      "       'work_type', 'Residence_type', 'avg_glucose_level', 'bmi',\n",
      "       'smoking_status', 'stroke', 'gender_encoded', 'ever_married_encoded',\n",
      "       'work_type_encoded', 'Residence_type_encoded',\n",
      "       'smoking_status_encoded'],\n",
      "      dtype='object')\n"
     ]
    }
   ],
   "source": [
    "print(data.columns)"
   ]
  },
  {
   "cell_type": "code",
   "execution_count": 143,
   "id": "aa37aedc-498f-458d-9237-be3189ad124a",
   "metadata": {},
   "outputs": [
    {
     "name": "stdout",
     "output_type": "stream",
     "text": [
      "id                          int64\n",
      "gender                     object\n",
      "age                       float64\n",
      "hypertension                int64\n",
      "heart_disease               int64\n",
      "ever_married               object\n",
      "work_type                  object\n",
      "Residence_type             object\n",
      "avg_glucose_level         float64\n",
      "bmi                       float64\n",
      "smoking_status             object\n",
      "stroke                      int64\n",
      "gender_encoded            float64\n",
      "ever_married_encoded      float64\n",
      "work_type_encoded         float64\n",
      "Residence_type_encoded    float64\n",
      "smoking_status_encoded    float64\n",
      "dtype: object\n"
     ]
    }
   ],
   "source": [
    "print(data.dtypes)"
   ]
  },
  {
   "cell_type": "code",
   "execution_count": 144,
   "id": "b642cd9b-fe39-4ff6-b6b2-5e1d2ccd763d",
   "metadata": {},
   "outputs": [
    {
     "name": "stdout",
     "output_type": "stream",
     "text": [
      "Training set shape: (3927, 16)\n",
      "Test set shape: (982, 16)\n",
      "Training target shape: (3927,)\n",
      "Test target shape: (982,)\n"
     ]
    }
   ],
   "source": [
    "from sklearn.model_selection import train_test_split\n",
    "# assuming the target variable is 'stroke' and the features are all other columns\n",
    "X = data.drop(columns=['stroke'])  # Features\n",
    "y = data['stroke']  # Target variable\n",
    "\n",
    "# Spliting the data into training and test sets with an 80/20 split\n",
    "X_train, X_test, y_train, y_test = train_test_split(X, y, test_size=0.2, random_state=42)\n",
    "\n",
    "# Displaying the shapes of the resulting datasets\n",
    "print(\"Training set shape:\", X_train.shape)\n",
    "print(\"Test set shape:\", X_test.shape)\n",
    "print(\"Training target shape:\", y_train.shape)\n",
    "print(\"Test target shape:\", y_test.shape)"
   ]
  },
  {
   "cell_type": "code",
   "execution_count": 145,
   "id": "617efe1d-03b7-45d7-b39c-af4a8d590e9c",
   "metadata": {},
   "outputs": [],
   "source": [
    "# Selecting the encoded columns only for X (features)\n",
    "encoded_columns = ['gender_encoded', 'ever_married_encoded', 'work_type_encoded', \n",
    "                   'Residence_type_encoded', 'smoking_status_encoded']  # Add other encoded columns here\n",
    "\n",
    "X = data[encoded_columns]\n",
    "y = data['stroke']  # Target variable should be numeric already\n",
    "\n",
    "# Split the data into training and test sets\n",
    "X_train, X_test, y_train, y_test = train_test_split(X, y, test_size=0.2, random_state=42)"
   ]
  },
  {
   "cell_type": "code",
   "execution_count": 146,
   "id": "1800aadd-9019-40dc-9a5a-6c09dc23bdf6",
   "metadata": {},
   "outputs": [],
   "source": [
    "# Include both encoded and numeric columns in X\n",
    "numeric_cols = ['age', 'hypertension', 'heart_disease', 'avg_glucose_level', 'bmi']\n",
    "encoded_columns = ['gender_encoded', 'ever_married_encoded', 'work_type_encoded', \n",
    "                   'Residence_type_encoded', 'smoking_status_encoded']  # Encoded categorical columns\n",
    "\n",
    "# Combine encoded and numeric columns\n",
    "X = data[encoded_columns + numeric_cols]\n",
    "y = data['stroke']  # Target variable"
   ]
  },
  {
   "cell_type": "code",
   "execution_count": 147,
   "id": "34d55d1c-0afb-4694-81a0-d638a3645711",
   "metadata": {},
   "outputs": [
    {
     "name": "stdout",
     "output_type": "stream",
     "text": [
      "Numeric columns have been standardized after splitting.\n"
     ]
    }
   ],
   "source": [
    "from sklearn.preprocessing import StandardScaler\n",
    "# Splitting the data\n",
    "X_train, X_test, y_train, y_test = train_test_split(X, y, test_size=0.2, random_state=42)\n",
    "\n",
    "# Standardize the numeric columns\n",
    "scaler = StandardScaler()\n",
    "\n",
    "# Fitting the scaler on the training data\n",
    "X_train[numeric_cols] = scaler.fit_transform(X_train[numeric_cols])\n",
    "\n",
    "# Applying the scaler to the test data\n",
    "X_test[numeric_cols] = scaler.transform(X_test[numeric_cols])\n",
    "\n",
    "print(\"Numeric columns have been standardized after splitting.\")"
   ]
  },
  {
   "cell_type": "markdown",
   "id": "6b5c9d06-a1f6-42ac-bab0-165874969041",
   "metadata": {},
   "source": [
    "## Standardizing Numeric Variables After Splitting"
   ]
  },
  {
   "cell_type": "markdown",
   "id": "f739d673-ac2b-473e-9cea-52d5787a6447",
   "metadata": {},
   "source": [
    "To prevent data leakage, it's important to split the data into training and test sets before performing standardization. This ensures that information from the test set doesn't influence the training process."
   ]
  },
  {
   "cell_type": "markdown",
   "id": "504298f9-51f9-404a-897d-914bbff98fdf",
   "metadata": {},
   "source": [
    "## Final Dataset Overview"
   ]
  },
  {
   "cell_type": "code",
   "execution_count": 148,
   "id": "e73d08af-da4a-4450-b178-c39e0b72bf3a",
   "metadata": {},
   "outputs": [
    {
     "data": {
      "text/html": [
       "<div>\n",
       "<style scoped>\n",
       "    .dataframe tbody tr th:only-of-type {\n",
       "        vertical-align: middle;\n",
       "    }\n",
       "\n",
       "    .dataframe tbody tr th {\n",
       "        vertical-align: top;\n",
       "    }\n",
       "\n",
       "    .dataframe thead th {\n",
       "        text-align: right;\n",
       "    }\n",
       "</style>\n",
       "<table border=\"1\" class=\"dataframe\">\n",
       "  <thead>\n",
       "    <tr style=\"text-align: right;\">\n",
       "      <th></th>\n",
       "      <th>gender_encoded</th>\n",
       "      <th>ever_married_encoded</th>\n",
       "      <th>work_type_encoded</th>\n",
       "      <th>Residence_type_encoded</th>\n",
       "      <th>smoking_status_encoded</th>\n",
       "      <th>age</th>\n",
       "      <th>hypertension</th>\n",
       "      <th>heart_disease</th>\n",
       "      <th>avg_glucose_level</th>\n",
       "      <th>bmi</th>\n",
       "    </tr>\n",
       "  </thead>\n",
       "  <tbody>\n",
       "    <tr>\n",
       "      <th>3565</th>\n",
       "      <td>1.0</td>\n",
       "      <td>1.0</td>\n",
       "      <td>3.0</td>\n",
       "      <td>1.0</td>\n",
       "      <td>0.0</td>\n",
       "      <td>-0.122659</td>\n",
       "      <td>-0.319627</td>\n",
       "      <td>-0.224234</td>\n",
       "      <td>-0.890448</td>\n",
       "      <td>0.306573</td>\n",
       "    </tr>\n",
       "    <tr>\n",
       "      <th>898</th>\n",
       "      <td>1.0</td>\n",
       "      <td>1.0</td>\n",
       "      <td>4.0</td>\n",
       "      <td>1.0</td>\n",
       "      <td>3.0</td>\n",
       "      <td>0.721865</td>\n",
       "      <td>-0.319627</td>\n",
       "      <td>-0.224234</td>\n",
       "      <td>-0.532870</td>\n",
       "      <td>0.513203</td>\n",
       "    </tr>\n",
       "    <tr>\n",
       "      <th>2707</th>\n",
       "      <td>1.0</td>\n",
       "      <td>1.0</td>\n",
       "      <td>3.0</td>\n",
       "      <td>1.0</td>\n",
       "      <td>0.0</td>\n",
       "      <td>0.632968</td>\n",
       "      <td>-0.319627</td>\n",
       "      <td>-0.224234</td>\n",
       "      <td>2.526037</td>\n",
       "      <td>1.003948</td>\n",
       "    </tr>\n",
       "    <tr>\n",
       "      <th>4198</th>\n",
       "      <td>0.0</td>\n",
       "      <td>1.0</td>\n",
       "      <td>4.0</td>\n",
       "      <td>1.0</td>\n",
       "      <td>1.0</td>\n",
       "      <td>1.699736</td>\n",
       "      <td>-0.319627</td>\n",
       "      <td>-0.224234</td>\n",
       "      <td>-0.768551</td>\n",
       "      <td>-0.636174</td>\n",
       "    </tr>\n",
       "    <tr>\n",
       "      <th>2746</th>\n",
       "      <td>0.0</td>\n",
       "      <td>1.0</td>\n",
       "      <td>4.0</td>\n",
       "      <td>1.0</td>\n",
       "      <td>0.0</td>\n",
       "      <td>0.988557</td>\n",
       "      <td>-0.319627</td>\n",
       "      <td>-0.224234</td>\n",
       "      <td>-0.212018</td>\n",
       "      <td>-0.042114</td>\n",
       "    </tr>\n",
       "  </tbody>\n",
       "</table>\n",
       "</div>"
      ],
      "text/plain": [
       "      gender_encoded  ever_married_encoded  work_type_encoded  \\\n",
       "3565             1.0                   1.0                3.0   \n",
       "898              1.0                   1.0                4.0   \n",
       "2707             1.0                   1.0                3.0   \n",
       "4198             0.0                   1.0                4.0   \n",
       "2746             0.0                   1.0                4.0   \n",
       "\n",
       "      Residence_type_encoded  smoking_status_encoded       age  hypertension  \\\n",
       "3565                     1.0                     0.0 -0.122659     -0.319627   \n",
       "898                      1.0                     3.0  0.721865     -0.319627   \n",
       "2707                     1.0                     0.0  0.632968     -0.319627   \n",
       "4198                     1.0                     1.0  1.699736     -0.319627   \n",
       "2746                     1.0                     0.0  0.988557     -0.319627   \n",
       "\n",
       "      heart_disease  avg_glucose_level       bmi  \n",
       "3565      -0.224234          -0.890448  0.306573  \n",
       "898       -0.224234          -0.532870  0.513203  \n",
       "2707      -0.224234           2.526037  1.003948  \n",
       "4198      -0.224234          -0.768551 -0.636174  \n",
       "2746      -0.224234          -0.212018 -0.042114  "
      ]
     },
     "execution_count": 148,
     "metadata": {},
     "output_type": "execute_result"
    }
   ],
   "source": [
    "X_train.head()"
   ]
  },
  {
   "cell_type": "code",
   "execution_count": 149,
   "id": "90e11fef-9f36-4a51-a601-e1850e4d851b",
   "metadata": {},
   "outputs": [
    {
     "name": "stdout",
     "output_type": "stream",
     "text": [
      "<class 'pandas.core.frame.DataFrame'>\n",
      "Index: 3927 entries, 3565 to 916\n",
      "Data columns (total 10 columns):\n",
      " #   Column                  Non-Null Count  Dtype  \n",
      "---  ------                  --------------  -----  \n",
      " 0   gender_encoded          3927 non-null   float64\n",
      " 1   ever_married_encoded    3927 non-null   float64\n",
      " 2   work_type_encoded       3927 non-null   float64\n",
      " 3   Residence_type_encoded  3927 non-null   float64\n",
      " 4   smoking_status_encoded  3927 non-null   float64\n",
      " 5   age                     3927 non-null   float64\n",
      " 6   hypertension            3927 non-null   float64\n",
      " 7   heart_disease           3927 non-null   float64\n",
      " 8   avg_glucose_level       3927 non-null   float64\n",
      " 9   bmi                     3927 non-null   float64\n",
      "dtypes: float64(10)\n",
      "memory usage: 337.5 KB\n"
     ]
    }
   ],
   "source": [
    "X_train.info()"
   ]
  },
  {
   "cell_type": "code",
   "execution_count": 150,
   "id": "26b6ecc5-dc1c-4b7e-a142-f079d0f42cef",
   "metadata": {},
   "outputs": [
    {
     "data": {
      "text/plain": [
       "3565    0\n",
       "898     0\n",
       "2707    0\n",
       "4198    0\n",
       "2746    0\n",
       "Name: stroke, dtype: int64"
      ]
     },
     "execution_count": 150,
     "metadata": {},
     "output_type": "execute_result"
    }
   ],
   "source": [
    "y_train.head()"
   ]
  },
  {
   "cell_type": "markdown",
   "id": "10fe8cc0-2f28-486e-93b2-68601984aefa",
   "metadata": {},
   "source": [
    "Let's save the data to a CSV file for use in a later notebook where we will model the data."
   ]
  },
  {
   "cell_type": "code",
   "execution_count": 151,
   "id": "6262d29f-3505-4043-8bb9-acacc974a771",
   "metadata": {},
   "outputs": [],
   "source": [
    "X_train.to_csv('X_train.csv', index=False)\n",
    "X_test.to_csv('X_test.csv', index=False)\n",
    "y_train.to_csv('y_train.csv', index=False)\n",
    "y_test.to_csv('y_test.csv', index=False)"
   ]
  },
  {
   "cell_type": "code",
   "execution_count": 152,
   "id": "0dbbf1df-6137-40e9-942e-edb6df93a7a0",
   "metadata": {},
   "outputs": [],
   "source": [
    "# Save the DataFrame to a CSV file\n",
    "data.to_csv('prepared_data.csv', index=False)"
   ]
  },
  {
   "cell_type": "code",
   "execution_count": 153,
   "id": "054402e4-3bae-4a6a-bbaf-b5aa42a70268",
   "metadata": {},
   "outputs": [],
   "source": [
    "import numpy as np\n",
    "from sklearn.preprocessing import OrdinalEncoder, StandardScaler\n",
    "from sklearn.model_selection import train_test_split, GridSearchCV\n",
    "from sklearn.metrics import (\n",
    "    confusion_matrix, ConfusionMatrixDisplay,\n",
    "    accuracy_score, precision_score, recall_score, f1_score\n",
    ")\n",
    "import matplotlib.pyplot as plt\n",
    "import seaborn as sns\n",
    "from sklearn.linear_model import LogisticRegression\n",
    "from sklearn.neighbors import KNeighborsClassifier\n",
    "\n",
    "# For displaying all columns\n",
    "pd.set_option('display.max_columns', None)\n",
    "\n",
    "# set random seed\n",
    "np.random.seed(0)"
   ]
  },
  {
   "cell_type": "code",
   "execution_count": 154,
   "id": "fccd2f5a-f690-4132-9ee5-f69665cf6f4f",
   "metadata": {},
   "outputs": [],
   "source": [
    "file_path = 'prepared_data.csv'\n",
    "data= pd.read_csv(file_path)"
   ]
  },
  {
   "cell_type": "code",
   "execution_count": 155,
   "id": "fdb4a299-63d3-4232-be49-e460099a23e3",
   "metadata": {},
   "outputs": [],
   "source": [
    "# Loading the prepared data from the previous notebook (data_modeling.ipynb)\n",
    "X_train = pd.read_csv('X_train.csv')\n",
    "X_test = pd.read_csv('X_test.csv')\n",
    "y_train = pd.read_csv('y_train.csv')\n",
    "y_test = pd.read_csv('y_test.csv')"
   ]
  },
  {
   "cell_type": "code",
   "execution_count": 156,
   "id": "7a7e0d89-3c6c-492e-a759-4c8d3529b2a0",
   "metadata": {},
   "outputs": [
    {
     "name": "stdout",
     "output_type": "stream",
     "text": [
      "y_train shape: (3927,)\n",
      "y_test shape: (982,)\n"
     ]
    }
   ],
   "source": [
    "#ravel to turn y_train and y_test into 1D arrays\n",
    "y_train = y_train.values.ravel()\n",
    "y_test = y_test.values.ravel()\n",
    "\n",
    "# shapes to confirm they are 1D\n",
    "print(\"y_train shape:\", y_train.shape)\n",
    "print(\"y_test shape:\", y_test.shape)"
   ]
  },
  {
   "cell_type": "markdown",
   "id": "734926ad-6a49-471f-b946-bf228256e174",
   "metadata": {},
   "source": [
    "## 3 Logistic Regression Model"
   ]
  },
  {
   "cell_type": "code",
   "execution_count": 157,
   "id": "2d86e844-9156-44a7-bc50-bc91b20349e5",
   "metadata": {},
   "outputs": [
    {
     "name": "stdout",
     "output_type": "stream",
     "text": [
      "Best parameters for Logistic Regression: {'C': 1}\n"
     ]
    }
   ],
   "source": [
    "# Define the parameter grid\n",
    "param_grid_lr = {'C': [0.01, 0.1, 1, 10, 100]}\n",
    "\n",
    "# Initialize the Logistic Regression model\n",
    "lr = LogisticRegression(max_iter=1000, random_state=42)\n",
    "\n",
    "# Initialize GridSearchCV\n",
    "grid_search_lr = GridSearchCV(lr, param_grid_lr, cv=5, scoring='f1')\n",
    "\n",
    "# Fit the model\n",
    "grid_search_lr.fit(X_train, y_train)\n",
    "\n",
    "# Best parameters\n",
    "print(\"Best parameters for Logistic Regression:\", grid_search_lr.best_params_)"
   ]
  },
  {
   "cell_type": "code",
   "execution_count": 158,
   "id": "3ed60c0d-2bc0-46fb-905a-65483dc57bc4",
   "metadata": {},
   "outputs": [
    {
     "name": "stdout",
     "output_type": "stream",
     "text": [
      "Best parameters for Logistic Regression: {'C': 1}\n"
     ]
    }
   ],
   "source": [
    "from sklearn.impute import SimpleImputer\n",
    "from sklearn.preprocessing import StandardScaler\n",
    "from sklearn.linear_model import LogisticRegression\n",
    "from imblearn.over_sampling import RandomOverSampler\n",
    "from sklearn.model_selection import train_test_split, GridSearchCV\n",
    "from sklearn.metrics import accuracy_score, precision_score, recall_score, f1_score, roc_auc_score\n",
    "from imblearn.over_sampling import RandomOverSampler\n",
    "import numpy as np\n",
    "\n",
    "\n",
    "# Define the imputer (here, replacing NaN with the mean of the column)\n",
    "imputer = SimpleImputer(strategy='mean')\n",
    "\n",
    "# Fit and transform the training data\n",
    "X_train = imputer.fit_transform(X_train)\n",
    "\n",
    "# Transform the test data\n",
    "X_test = imputer.transform(X_test)\n",
    "\n",
    "# Now, fit the Logistic Regression model\n",
    "grid_search_lr.fit(X_train, y_train)\n",
    "\n",
    "# Best parameters\n",
    "print(\"Best parameters for Logistic Regression:\", grid_search_lr.best_params_)"
   ]
  },
  {
   "cell_type": "code",
   "execution_count": 159,
   "id": "dc6ddfc0-f894-41b2-b900-998fb9a24917",
   "metadata": {},
   "outputs": [],
   "source": [
    "# Get the best model\n",
    "best_lr = grid_search_lr.best_estimator_"
   ]
  },
  {
   "cell_type": "markdown",
   "id": "13fbc971-7e84-4d5e-9df5-8a1c77fd62ad",
   "metadata": {},
   "source": [
    "### 4 K-Nearest Neighbors"
   ]
  },
  {
   "cell_type": "markdown",
   "id": "e8a527f5-589b-4d74-b6e7-cd7aa682d62c",
   "metadata": {},
   "source": [
    "#### Hyperparameter Tuning\n",
    "\n",
    "We will use GridSearchCV to find the best value for `n_neighbors`.\n"
   ]
  },
  {
   "cell_type": "code",
   "execution_count": 160,
   "id": "0e09f146-d5aa-4468-b9ab-1398fbd78aeb",
   "metadata": {},
   "outputs": [
    {
     "name": "stdout",
     "output_type": "stream",
     "text": [
      "Number of NaN values in X_train: 0\n",
      "Number of NaN values in y_train: 0\n",
      "Best parameters for K-Nearest Neighbors: {'n_neighbors': 1}\n"
     ]
    }
   ],
   "source": [
    "# Check for NaN values\n",
    "print(\"Number of NaN values in X_train:\", np.isnan(X_train).sum().sum())\n",
    "print(\"Number of NaN values in y_train:\", np.isnan(y_train).sum())\n",
    "\n",
    "# Handle missing values using SimpleImputer\n",
    "imputer = SimpleImputer(strategy='mean')  # Replace NaN with the mean\n",
    "X_train = imputer.fit_transform(X_train)  # Fit and transform the training data\n",
    "X_test = imputer.transform(X_test)        # Transform the test data\n",
    "\n",
    "# Standardize the numeric columns\n",
    "scaler = StandardScaler()\n",
    "X_train = scaler.fit_transform(X_train)  # Fit and transform\n",
    "X_test = scaler.transform(X_test)        # Transform\n",
    "\n",
    "\n",
    "# Define the parameter grid\n",
    "param_grid_knn = {'n_neighbors': range(1, 21)}\n",
    "\n",
    "# Initialize the KNN model\n",
    "knn = KNeighborsClassifier()\n",
    "\n",
    "# Initialize GridSearchCV\n",
    "grid_search_knn = GridSearchCV(knn, param_grid_knn, cv=5, scoring='f1')\n",
    "\n",
    "# Fit the model\n",
    "grid_search_knn.fit(X_train, y_train)\n",
    "\n",
    "# Best parameters\n",
    "print(\"Best parameters for K-Nearest Neighbors:\", grid_search_knn.best_params_)"
   ]
  },
  {
   "cell_type": "markdown",
   "id": "cd88d946-a05e-42a1-9965-d48d9402c8da",
   "metadata": {},
   "source": [
    "#### Best KNN Model\n"
   ]
  },
  {
   "cell_type": "code",
   "execution_count": 161,
   "id": "a5359993-71ea-4928-a96d-5a17d5611579",
   "metadata": {},
   "outputs": [],
   "source": [
    "# Get the best model\n",
    "best_knn = grid_search_knn.best_estimator_"
   ]
  },
  {
   "cell_type": "markdown",
   "id": "b76f8893-a608-4f86-9562-f17c2e4cc788",
   "metadata": {},
   "source": [
    "## Model Evaluation\n",
    "\n",
    "We will evaluate both models using confusion matrices and performance metrics."
   ]
  },
  {
   "cell_type": "markdown",
   "id": "26931953-ecd2-42bb-b436-a780b1df3b72",
   "metadata": {},
   "source": [
    "### 1.Logistic Regression Evaluation"
   ]
  },
  {
   "cell_type": "code",
   "execution_count": 162,
   "id": "66a65482-5e14-4a09-9163-38623a953005",
   "metadata": {},
   "outputs": [],
   "source": [
    "# Make predictions\n",
    "y_pred_lr = best_lr.predict(X_test)"
   ]
  },
  {
   "cell_type": "code",
   "execution_count": null,
   "id": "3d37d8fa-fdd3-42a3-bbd6-a86ef8ae7525",
   "metadata": {},
   "outputs": [],
   "source": []
  },
  {
   "cell_type": "code",
   "execution_count": 163,
   "id": "1f1be5ae-daa7-4416-922a-544882af8419",
   "metadata": {},
   "outputs": [
    {
     "data": {
      "text/html": [
       "<style>#sk-container-id-5 {\n",
       "  /* Definition of color scheme common for light and dark mode */\n",
       "  --sklearn-color-text: black;\n",
       "  --sklearn-color-line: gray;\n",
       "  /* Definition of color scheme for unfitted estimators */\n",
       "  --sklearn-color-unfitted-level-0: #fff5e6;\n",
       "  --sklearn-color-unfitted-level-1: #f6e4d2;\n",
       "  --sklearn-color-unfitted-level-2: #ffe0b3;\n",
       "  --sklearn-color-unfitted-level-3: chocolate;\n",
       "  /* Definition of color scheme for fitted estimators */\n",
       "  --sklearn-color-fitted-level-0: #f0f8ff;\n",
       "  --sklearn-color-fitted-level-1: #d4ebff;\n",
       "  --sklearn-color-fitted-level-2: #b3dbfd;\n",
       "  --sklearn-color-fitted-level-3: cornflowerblue;\n",
       "\n",
       "  /* Specific color for light theme */\n",
       "  --sklearn-color-text-on-default-background: var(--sg-text-color, var(--theme-code-foreground, var(--jp-content-font-color1, black)));\n",
       "  --sklearn-color-background: var(--sg-background-color, var(--theme-background, var(--jp-layout-color0, white)));\n",
       "  --sklearn-color-border-box: var(--sg-text-color, var(--theme-code-foreground, var(--jp-content-font-color1, black)));\n",
       "  --sklearn-color-icon: #696969;\n",
       "\n",
       "  @media (prefers-color-scheme: dark) {\n",
       "    /* Redefinition of color scheme for dark theme */\n",
       "    --sklearn-color-text-on-default-background: var(--sg-text-color, var(--theme-code-foreground, var(--jp-content-font-color1, white)));\n",
       "    --sklearn-color-background: var(--sg-background-color, var(--theme-background, var(--jp-layout-color0, #111)));\n",
       "    --sklearn-color-border-box: var(--sg-text-color, var(--theme-code-foreground, var(--jp-content-font-color1, white)));\n",
       "    --sklearn-color-icon: #878787;\n",
       "  }\n",
       "}\n",
       "\n",
       "#sk-container-id-5 {\n",
       "  color: var(--sklearn-color-text);\n",
       "}\n",
       "\n",
       "#sk-container-id-5 pre {\n",
       "  padding: 0;\n",
       "}\n",
       "\n",
       "#sk-container-id-5 input.sk-hidden--visually {\n",
       "  border: 0;\n",
       "  clip: rect(1px 1px 1px 1px);\n",
       "  clip: rect(1px, 1px, 1px, 1px);\n",
       "  height: 1px;\n",
       "  margin: -1px;\n",
       "  overflow: hidden;\n",
       "  padding: 0;\n",
       "  position: absolute;\n",
       "  width: 1px;\n",
       "}\n",
       "\n",
       "#sk-container-id-5 div.sk-dashed-wrapped {\n",
       "  border: 1px dashed var(--sklearn-color-line);\n",
       "  margin: 0 0.4em 0.5em 0.4em;\n",
       "  box-sizing: border-box;\n",
       "  padding-bottom: 0.4em;\n",
       "  background-color: var(--sklearn-color-background);\n",
       "}\n",
       "\n",
       "#sk-container-id-5 div.sk-container {\n",
       "  /* jupyter's `normalize.less` sets `[hidden] { display: none; }`\n",
       "     but bootstrap.min.css set `[hidden] { display: none !important; }`\n",
       "     so we also need the `!important` here to be able to override the\n",
       "     default hidden behavior on the sphinx rendered scikit-learn.org.\n",
       "     See: https://github.com/scikit-learn/scikit-learn/issues/21755 */\n",
       "  display: inline-block !important;\n",
       "  position: relative;\n",
       "}\n",
       "\n",
       "#sk-container-id-5 div.sk-text-repr-fallback {\n",
       "  display: none;\n",
       "}\n",
       "\n",
       "div.sk-parallel-item,\n",
       "div.sk-serial,\n",
       "div.sk-item {\n",
       "  /* draw centered vertical line to link estimators */\n",
       "  background-image: linear-gradient(var(--sklearn-color-text-on-default-background), var(--sklearn-color-text-on-default-background));\n",
       "  background-size: 2px 100%;\n",
       "  background-repeat: no-repeat;\n",
       "  background-position: center center;\n",
       "}\n",
       "\n",
       "/* Parallel-specific style estimator block */\n",
       "\n",
       "#sk-container-id-5 div.sk-parallel-item::after {\n",
       "  content: \"\";\n",
       "  width: 100%;\n",
       "  border-bottom: 2px solid var(--sklearn-color-text-on-default-background);\n",
       "  flex-grow: 1;\n",
       "}\n",
       "\n",
       "#sk-container-id-5 div.sk-parallel {\n",
       "  display: flex;\n",
       "  align-items: stretch;\n",
       "  justify-content: center;\n",
       "  background-color: var(--sklearn-color-background);\n",
       "  position: relative;\n",
       "}\n",
       "\n",
       "#sk-container-id-5 div.sk-parallel-item {\n",
       "  display: flex;\n",
       "  flex-direction: column;\n",
       "}\n",
       "\n",
       "#sk-container-id-5 div.sk-parallel-item:first-child::after {\n",
       "  align-self: flex-end;\n",
       "  width: 50%;\n",
       "}\n",
       "\n",
       "#sk-container-id-5 div.sk-parallel-item:last-child::after {\n",
       "  align-self: flex-start;\n",
       "  width: 50%;\n",
       "}\n",
       "\n",
       "#sk-container-id-5 div.sk-parallel-item:only-child::after {\n",
       "  width: 0;\n",
       "}\n",
       "\n",
       "/* Serial-specific style estimator block */\n",
       "\n",
       "#sk-container-id-5 div.sk-serial {\n",
       "  display: flex;\n",
       "  flex-direction: column;\n",
       "  align-items: center;\n",
       "  background-color: var(--sklearn-color-background);\n",
       "  padding-right: 1em;\n",
       "  padding-left: 1em;\n",
       "}\n",
       "\n",
       "\n",
       "/* Toggleable style: style used for estimator/Pipeline/ColumnTransformer box that is\n",
       "clickable and can be expanded/collapsed.\n",
       "- Pipeline and ColumnTransformer use this feature and define the default style\n",
       "- Estimators will overwrite some part of the style using the `sk-estimator` class\n",
       "*/\n",
       "\n",
       "/* Pipeline and ColumnTransformer style (default) */\n",
       "\n",
       "#sk-container-id-5 div.sk-toggleable {\n",
       "  /* Default theme specific background. It is overwritten whether we have a\n",
       "  specific estimator or a Pipeline/ColumnTransformer */\n",
       "  background-color: var(--sklearn-color-background);\n",
       "}\n",
       "\n",
       "/* Toggleable label */\n",
       "#sk-container-id-5 label.sk-toggleable__label {\n",
       "  cursor: pointer;\n",
       "  display: block;\n",
       "  width: 100%;\n",
       "  margin-bottom: 0;\n",
       "  padding: 0.5em;\n",
       "  box-sizing: border-box;\n",
       "  text-align: center;\n",
       "}\n",
       "\n",
       "#sk-container-id-5 label.sk-toggleable__label-arrow:before {\n",
       "  /* Arrow on the left of the label */\n",
       "  content: \"▸\";\n",
       "  float: left;\n",
       "  margin-right: 0.25em;\n",
       "  color: var(--sklearn-color-icon);\n",
       "}\n",
       "\n",
       "#sk-container-id-5 label.sk-toggleable__label-arrow:hover:before {\n",
       "  color: var(--sklearn-color-text);\n",
       "}\n",
       "\n",
       "/* Toggleable content - dropdown */\n",
       "\n",
       "#sk-container-id-5 div.sk-toggleable__content {\n",
       "  max-height: 0;\n",
       "  max-width: 0;\n",
       "  overflow: hidden;\n",
       "  text-align: left;\n",
       "  /* unfitted */\n",
       "  background-color: var(--sklearn-color-unfitted-level-0);\n",
       "}\n",
       "\n",
       "#sk-container-id-5 div.sk-toggleable__content.fitted {\n",
       "  /* fitted */\n",
       "  background-color: var(--sklearn-color-fitted-level-0);\n",
       "}\n",
       "\n",
       "#sk-container-id-5 div.sk-toggleable__content pre {\n",
       "  margin: 0.2em;\n",
       "  border-radius: 0.25em;\n",
       "  color: var(--sklearn-color-text);\n",
       "  /* unfitted */\n",
       "  background-color: var(--sklearn-color-unfitted-level-0);\n",
       "}\n",
       "\n",
       "#sk-container-id-5 div.sk-toggleable__content.fitted pre {\n",
       "  /* unfitted */\n",
       "  background-color: var(--sklearn-color-fitted-level-0);\n",
       "}\n",
       "\n",
       "#sk-container-id-5 input.sk-toggleable__control:checked~div.sk-toggleable__content {\n",
       "  /* Expand drop-down */\n",
       "  max-height: 200px;\n",
       "  max-width: 100%;\n",
       "  overflow: auto;\n",
       "}\n",
       "\n",
       "#sk-container-id-5 input.sk-toggleable__control:checked~label.sk-toggleable__label-arrow:before {\n",
       "  content: \"▾\";\n",
       "}\n",
       "\n",
       "/* Pipeline/ColumnTransformer-specific style */\n",
       "\n",
       "#sk-container-id-5 div.sk-label input.sk-toggleable__control:checked~label.sk-toggleable__label {\n",
       "  color: var(--sklearn-color-text);\n",
       "  background-color: var(--sklearn-color-unfitted-level-2);\n",
       "}\n",
       "\n",
       "#sk-container-id-5 div.sk-label.fitted input.sk-toggleable__control:checked~label.sk-toggleable__label {\n",
       "  background-color: var(--sklearn-color-fitted-level-2);\n",
       "}\n",
       "\n",
       "/* Estimator-specific style */\n",
       "\n",
       "/* Colorize estimator box */\n",
       "#sk-container-id-5 div.sk-estimator input.sk-toggleable__control:checked~label.sk-toggleable__label {\n",
       "  /* unfitted */\n",
       "  background-color: var(--sklearn-color-unfitted-level-2);\n",
       "}\n",
       "\n",
       "#sk-container-id-5 div.sk-estimator.fitted input.sk-toggleable__control:checked~label.sk-toggleable__label {\n",
       "  /* fitted */\n",
       "  background-color: var(--sklearn-color-fitted-level-2);\n",
       "}\n",
       "\n",
       "#sk-container-id-5 div.sk-label label.sk-toggleable__label,\n",
       "#sk-container-id-5 div.sk-label label {\n",
       "  /* The background is the default theme color */\n",
       "  color: var(--sklearn-color-text-on-default-background);\n",
       "}\n",
       "\n",
       "/* On hover, darken the color of the background */\n",
       "#sk-container-id-5 div.sk-label:hover label.sk-toggleable__label {\n",
       "  color: var(--sklearn-color-text);\n",
       "  background-color: var(--sklearn-color-unfitted-level-2);\n",
       "}\n",
       "\n",
       "/* Label box, darken color on hover, fitted */\n",
       "#sk-container-id-5 div.sk-label.fitted:hover label.sk-toggleable__label.fitted {\n",
       "  color: var(--sklearn-color-text);\n",
       "  background-color: var(--sklearn-color-fitted-level-2);\n",
       "}\n",
       "\n",
       "/* Estimator label */\n",
       "\n",
       "#sk-container-id-5 div.sk-label label {\n",
       "  font-family: monospace;\n",
       "  font-weight: bold;\n",
       "  display: inline-block;\n",
       "  line-height: 1.2em;\n",
       "}\n",
       "\n",
       "#sk-container-id-5 div.sk-label-container {\n",
       "  text-align: center;\n",
       "}\n",
       "\n",
       "/* Estimator-specific */\n",
       "#sk-container-id-5 div.sk-estimator {\n",
       "  font-family: monospace;\n",
       "  border: 1px dotted var(--sklearn-color-border-box);\n",
       "  border-radius: 0.25em;\n",
       "  box-sizing: border-box;\n",
       "  margin-bottom: 0.5em;\n",
       "  /* unfitted */\n",
       "  background-color: var(--sklearn-color-unfitted-level-0);\n",
       "}\n",
       "\n",
       "#sk-container-id-5 div.sk-estimator.fitted {\n",
       "  /* fitted */\n",
       "  background-color: var(--sklearn-color-fitted-level-0);\n",
       "}\n",
       "\n",
       "/* on hover */\n",
       "#sk-container-id-5 div.sk-estimator:hover {\n",
       "  /* unfitted */\n",
       "  background-color: var(--sklearn-color-unfitted-level-2);\n",
       "}\n",
       "\n",
       "#sk-container-id-5 div.sk-estimator.fitted:hover {\n",
       "  /* fitted */\n",
       "  background-color: var(--sklearn-color-fitted-level-2);\n",
       "}\n",
       "\n",
       "/* Specification for estimator info (e.g. \"i\" and \"?\") */\n",
       "\n",
       "/* Common style for \"i\" and \"?\" */\n",
       "\n",
       ".sk-estimator-doc-link,\n",
       "a:link.sk-estimator-doc-link,\n",
       "a:visited.sk-estimator-doc-link {\n",
       "  float: right;\n",
       "  font-size: smaller;\n",
       "  line-height: 1em;\n",
       "  font-family: monospace;\n",
       "  background-color: var(--sklearn-color-background);\n",
       "  border-radius: 1em;\n",
       "  height: 1em;\n",
       "  width: 1em;\n",
       "  text-decoration: none !important;\n",
       "  margin-left: 1ex;\n",
       "  /* unfitted */\n",
       "  border: var(--sklearn-color-unfitted-level-1) 1pt solid;\n",
       "  color: var(--sklearn-color-unfitted-level-1);\n",
       "}\n",
       "\n",
       ".sk-estimator-doc-link.fitted,\n",
       "a:link.sk-estimator-doc-link.fitted,\n",
       "a:visited.sk-estimator-doc-link.fitted {\n",
       "  /* fitted */\n",
       "  border: var(--sklearn-color-fitted-level-1) 1pt solid;\n",
       "  color: var(--sklearn-color-fitted-level-1);\n",
       "}\n",
       "\n",
       "/* On hover */\n",
       "div.sk-estimator:hover .sk-estimator-doc-link:hover,\n",
       ".sk-estimator-doc-link:hover,\n",
       "div.sk-label-container:hover .sk-estimator-doc-link:hover,\n",
       ".sk-estimator-doc-link:hover {\n",
       "  /* unfitted */\n",
       "  background-color: var(--sklearn-color-unfitted-level-3);\n",
       "  color: var(--sklearn-color-background);\n",
       "  text-decoration: none;\n",
       "}\n",
       "\n",
       "div.sk-estimator.fitted:hover .sk-estimator-doc-link.fitted:hover,\n",
       ".sk-estimator-doc-link.fitted:hover,\n",
       "div.sk-label-container:hover .sk-estimator-doc-link.fitted:hover,\n",
       ".sk-estimator-doc-link.fitted:hover {\n",
       "  /* fitted */\n",
       "  background-color: var(--sklearn-color-fitted-level-3);\n",
       "  color: var(--sklearn-color-background);\n",
       "  text-decoration: none;\n",
       "}\n",
       "\n",
       "/* Span, style for the box shown on hovering the info icon */\n",
       ".sk-estimator-doc-link span {\n",
       "  display: none;\n",
       "  z-index: 9999;\n",
       "  position: relative;\n",
       "  font-weight: normal;\n",
       "  right: .2ex;\n",
       "  padding: .5ex;\n",
       "  margin: .5ex;\n",
       "  width: min-content;\n",
       "  min-width: 20ex;\n",
       "  max-width: 50ex;\n",
       "  color: var(--sklearn-color-text);\n",
       "  box-shadow: 2pt 2pt 4pt #999;\n",
       "  /* unfitted */\n",
       "  background: var(--sklearn-color-unfitted-level-0);\n",
       "  border: .5pt solid var(--sklearn-color-unfitted-level-3);\n",
       "}\n",
       "\n",
       ".sk-estimator-doc-link.fitted span {\n",
       "  /* fitted */\n",
       "  background: var(--sklearn-color-fitted-level-0);\n",
       "  border: var(--sklearn-color-fitted-level-3);\n",
       "}\n",
       "\n",
       ".sk-estimator-doc-link:hover span {\n",
       "  display: block;\n",
       "}\n",
       "\n",
       "/* \"?\"-specific style due to the `<a>` HTML tag */\n",
       "\n",
       "#sk-container-id-5 a.estimator_doc_link {\n",
       "  float: right;\n",
       "  font-size: 1rem;\n",
       "  line-height: 1em;\n",
       "  font-family: monospace;\n",
       "  background-color: var(--sklearn-color-background);\n",
       "  border-radius: 1rem;\n",
       "  height: 1rem;\n",
       "  width: 1rem;\n",
       "  text-decoration: none;\n",
       "  /* unfitted */\n",
       "  color: var(--sklearn-color-unfitted-level-1);\n",
       "  border: var(--sklearn-color-unfitted-level-1) 1pt solid;\n",
       "}\n",
       "\n",
       "#sk-container-id-5 a.estimator_doc_link.fitted {\n",
       "  /* fitted */\n",
       "  border: var(--sklearn-color-fitted-level-1) 1pt solid;\n",
       "  color: var(--sklearn-color-fitted-level-1);\n",
       "}\n",
       "\n",
       "/* On hover */\n",
       "#sk-container-id-5 a.estimator_doc_link:hover {\n",
       "  /* unfitted */\n",
       "  background-color: var(--sklearn-color-unfitted-level-3);\n",
       "  color: var(--sklearn-color-background);\n",
       "  text-decoration: none;\n",
       "}\n",
       "\n",
       "#sk-container-id-5 a.estimator_doc_link.fitted:hover {\n",
       "  /* fitted */\n",
       "  background-color: var(--sklearn-color-fitted-level-3);\n",
       "}\n",
       "</style><div id=\"sk-container-id-5\" class=\"sk-top-container\"><div class=\"sk-text-repr-fallback\"><pre>GridSearchCV(cv=5,\n",
       "             estimator=LogisticRegression(class_weight=&#x27;balanced&#x27;,\n",
       "                                          max_iter=1000, random_state=42),\n",
       "             param_grid={&#x27;C&#x27;: [0.01, 0.1, 1, 10, 100]}, scoring=&#x27;f1&#x27;)</pre><b>In a Jupyter environment, please rerun this cell to show the HTML representation or trust the notebook. <br />On GitHub, the HTML representation is unable to render, please try loading this page with nbviewer.org.</b></div><div class=\"sk-container\" hidden><div class=\"sk-item sk-dashed-wrapped\"><div class=\"sk-label-container\"><div class=\"sk-label fitted sk-toggleable\"><input class=\"sk-toggleable__control sk-hidden--visually\" id=\"sk-estimator-id-9\" type=\"checkbox\" ><label for=\"sk-estimator-id-9\" class=\"sk-toggleable__label fitted sk-toggleable__label-arrow fitted\">&nbsp;&nbsp;GridSearchCV<a class=\"sk-estimator-doc-link fitted\" rel=\"noreferrer\" target=\"_blank\" href=\"https://scikit-learn.org/1.5/modules/generated/sklearn.model_selection.GridSearchCV.html\">?<span>Documentation for GridSearchCV</span></a><span class=\"sk-estimator-doc-link fitted\">i<span>Fitted</span></span></label><div class=\"sk-toggleable__content fitted\"><pre>GridSearchCV(cv=5,\n",
       "             estimator=LogisticRegression(class_weight=&#x27;balanced&#x27;,\n",
       "                                          max_iter=1000, random_state=42),\n",
       "             param_grid={&#x27;C&#x27;: [0.01, 0.1, 1, 10, 100]}, scoring=&#x27;f1&#x27;)</pre></div> </div></div><div class=\"sk-parallel\"><div class=\"sk-parallel-item\"><div class=\"sk-item\"><div class=\"sk-label-container\"><div class=\"sk-label fitted sk-toggleable\"><input class=\"sk-toggleable__control sk-hidden--visually\" id=\"sk-estimator-id-10\" type=\"checkbox\" ><label for=\"sk-estimator-id-10\" class=\"sk-toggleable__label fitted sk-toggleable__label-arrow fitted\">best_estimator_: LogisticRegression</label><div class=\"sk-toggleable__content fitted\"><pre>LogisticRegression(C=0.01, class_weight=&#x27;balanced&#x27;, max_iter=1000,\n",
       "                   random_state=42)</pre></div> </div></div><div class=\"sk-serial\"><div class=\"sk-item\"><div class=\"sk-estimator fitted sk-toggleable\"><input class=\"sk-toggleable__control sk-hidden--visually\" id=\"sk-estimator-id-11\" type=\"checkbox\" ><label for=\"sk-estimator-id-11\" class=\"sk-toggleable__label fitted sk-toggleable__label-arrow fitted\">&nbsp;LogisticRegression<a class=\"sk-estimator-doc-link fitted\" rel=\"noreferrer\" target=\"_blank\" href=\"https://scikit-learn.org/1.5/modules/generated/sklearn.linear_model.LogisticRegression.html\">?<span>Documentation for LogisticRegression</span></a></label><div class=\"sk-toggleable__content fitted\"><pre>LogisticRegression(C=0.01, class_weight=&#x27;balanced&#x27;, max_iter=1000,\n",
       "                   random_state=42)</pre></div> </div></div></div></div></div></div></div></div></div>"
      ],
      "text/plain": [
       "GridSearchCV(cv=5,\n",
       "             estimator=LogisticRegression(class_weight='balanced',\n",
       "                                          max_iter=1000, random_state=42),\n",
       "             param_grid={'C': [0.01, 0.1, 1, 10, 100]}, scoring='f1')"
      ]
     },
     "execution_count": 163,
     "metadata": {},
     "output_type": "execute_result"
    }
   ],
   "source": [
    "lr = LogisticRegression(max_iter=1000, random_state=42, class_weight='balanced')\n",
    "\n",
    "# Initialize GridSearchCV and fit the model\n",
    "grid_search_lr = GridSearchCV(lr, param_grid_lr, cv=5, scoring='f1')\n",
    "grid_search_lr.fit(X_train, y_train)"
   ]
  },
  {
   "cell_type": "code",
   "execution_count": 164,
   "id": "95215a34-435a-4430-a844-9efc133b06af",
   "metadata": {},
   "outputs": [],
   "source": [
    "# Split the data\n",
    "X_train, X_test, y_train, y_test = train_test_split(X, y, test_size=0.2, random_state=42)\n"
   ]
  },
  {
   "cell_type": "code",
   "execution_count": 165,
   "id": "418d85fe-c7bf-4af0-add1-14fb1d7136b5",
   "metadata": {},
   "outputs": [
    {
     "data": {
      "text/html": [
       "<style>#sk-container-id-6 {\n",
       "  /* Definition of color scheme common for light and dark mode */\n",
       "  --sklearn-color-text: black;\n",
       "  --sklearn-color-line: gray;\n",
       "  /* Definition of color scheme for unfitted estimators */\n",
       "  --sklearn-color-unfitted-level-0: #fff5e6;\n",
       "  --sklearn-color-unfitted-level-1: #f6e4d2;\n",
       "  --sklearn-color-unfitted-level-2: #ffe0b3;\n",
       "  --sklearn-color-unfitted-level-3: chocolate;\n",
       "  /* Definition of color scheme for fitted estimators */\n",
       "  --sklearn-color-fitted-level-0: #f0f8ff;\n",
       "  --sklearn-color-fitted-level-1: #d4ebff;\n",
       "  --sklearn-color-fitted-level-2: #b3dbfd;\n",
       "  --sklearn-color-fitted-level-3: cornflowerblue;\n",
       "\n",
       "  /* Specific color for light theme */\n",
       "  --sklearn-color-text-on-default-background: var(--sg-text-color, var(--theme-code-foreground, var(--jp-content-font-color1, black)));\n",
       "  --sklearn-color-background: var(--sg-background-color, var(--theme-background, var(--jp-layout-color0, white)));\n",
       "  --sklearn-color-border-box: var(--sg-text-color, var(--theme-code-foreground, var(--jp-content-font-color1, black)));\n",
       "  --sklearn-color-icon: #696969;\n",
       "\n",
       "  @media (prefers-color-scheme: dark) {\n",
       "    /* Redefinition of color scheme for dark theme */\n",
       "    --sklearn-color-text-on-default-background: var(--sg-text-color, var(--theme-code-foreground, var(--jp-content-font-color1, white)));\n",
       "    --sklearn-color-background: var(--sg-background-color, var(--theme-background, var(--jp-layout-color0, #111)));\n",
       "    --sklearn-color-border-box: var(--sg-text-color, var(--theme-code-foreground, var(--jp-content-font-color1, white)));\n",
       "    --sklearn-color-icon: #878787;\n",
       "  }\n",
       "}\n",
       "\n",
       "#sk-container-id-6 {\n",
       "  color: var(--sklearn-color-text);\n",
       "}\n",
       "\n",
       "#sk-container-id-6 pre {\n",
       "  padding: 0;\n",
       "}\n",
       "\n",
       "#sk-container-id-6 input.sk-hidden--visually {\n",
       "  border: 0;\n",
       "  clip: rect(1px 1px 1px 1px);\n",
       "  clip: rect(1px, 1px, 1px, 1px);\n",
       "  height: 1px;\n",
       "  margin: -1px;\n",
       "  overflow: hidden;\n",
       "  padding: 0;\n",
       "  position: absolute;\n",
       "  width: 1px;\n",
       "}\n",
       "\n",
       "#sk-container-id-6 div.sk-dashed-wrapped {\n",
       "  border: 1px dashed var(--sklearn-color-line);\n",
       "  margin: 0 0.4em 0.5em 0.4em;\n",
       "  box-sizing: border-box;\n",
       "  padding-bottom: 0.4em;\n",
       "  background-color: var(--sklearn-color-background);\n",
       "}\n",
       "\n",
       "#sk-container-id-6 div.sk-container {\n",
       "  /* jupyter's `normalize.less` sets `[hidden] { display: none; }`\n",
       "     but bootstrap.min.css set `[hidden] { display: none !important; }`\n",
       "     so we also need the `!important` here to be able to override the\n",
       "     default hidden behavior on the sphinx rendered scikit-learn.org.\n",
       "     See: https://github.com/scikit-learn/scikit-learn/issues/21755 */\n",
       "  display: inline-block !important;\n",
       "  position: relative;\n",
       "}\n",
       "\n",
       "#sk-container-id-6 div.sk-text-repr-fallback {\n",
       "  display: none;\n",
       "}\n",
       "\n",
       "div.sk-parallel-item,\n",
       "div.sk-serial,\n",
       "div.sk-item {\n",
       "  /* draw centered vertical line to link estimators */\n",
       "  background-image: linear-gradient(var(--sklearn-color-text-on-default-background), var(--sklearn-color-text-on-default-background));\n",
       "  background-size: 2px 100%;\n",
       "  background-repeat: no-repeat;\n",
       "  background-position: center center;\n",
       "}\n",
       "\n",
       "/* Parallel-specific style estimator block */\n",
       "\n",
       "#sk-container-id-6 div.sk-parallel-item::after {\n",
       "  content: \"\";\n",
       "  width: 100%;\n",
       "  border-bottom: 2px solid var(--sklearn-color-text-on-default-background);\n",
       "  flex-grow: 1;\n",
       "}\n",
       "\n",
       "#sk-container-id-6 div.sk-parallel {\n",
       "  display: flex;\n",
       "  align-items: stretch;\n",
       "  justify-content: center;\n",
       "  background-color: var(--sklearn-color-background);\n",
       "  position: relative;\n",
       "}\n",
       "\n",
       "#sk-container-id-6 div.sk-parallel-item {\n",
       "  display: flex;\n",
       "  flex-direction: column;\n",
       "}\n",
       "\n",
       "#sk-container-id-6 div.sk-parallel-item:first-child::after {\n",
       "  align-self: flex-end;\n",
       "  width: 50%;\n",
       "}\n",
       "\n",
       "#sk-container-id-6 div.sk-parallel-item:last-child::after {\n",
       "  align-self: flex-start;\n",
       "  width: 50%;\n",
       "}\n",
       "\n",
       "#sk-container-id-6 div.sk-parallel-item:only-child::after {\n",
       "  width: 0;\n",
       "}\n",
       "\n",
       "/* Serial-specific style estimator block */\n",
       "\n",
       "#sk-container-id-6 div.sk-serial {\n",
       "  display: flex;\n",
       "  flex-direction: column;\n",
       "  align-items: center;\n",
       "  background-color: var(--sklearn-color-background);\n",
       "  padding-right: 1em;\n",
       "  padding-left: 1em;\n",
       "}\n",
       "\n",
       "\n",
       "/* Toggleable style: style used for estimator/Pipeline/ColumnTransformer box that is\n",
       "clickable and can be expanded/collapsed.\n",
       "- Pipeline and ColumnTransformer use this feature and define the default style\n",
       "- Estimators will overwrite some part of the style using the `sk-estimator` class\n",
       "*/\n",
       "\n",
       "/* Pipeline and ColumnTransformer style (default) */\n",
       "\n",
       "#sk-container-id-6 div.sk-toggleable {\n",
       "  /* Default theme specific background. It is overwritten whether we have a\n",
       "  specific estimator or a Pipeline/ColumnTransformer */\n",
       "  background-color: var(--sklearn-color-background);\n",
       "}\n",
       "\n",
       "/* Toggleable label */\n",
       "#sk-container-id-6 label.sk-toggleable__label {\n",
       "  cursor: pointer;\n",
       "  display: block;\n",
       "  width: 100%;\n",
       "  margin-bottom: 0;\n",
       "  padding: 0.5em;\n",
       "  box-sizing: border-box;\n",
       "  text-align: center;\n",
       "}\n",
       "\n",
       "#sk-container-id-6 label.sk-toggleable__label-arrow:before {\n",
       "  /* Arrow on the left of the label */\n",
       "  content: \"▸\";\n",
       "  float: left;\n",
       "  margin-right: 0.25em;\n",
       "  color: var(--sklearn-color-icon);\n",
       "}\n",
       "\n",
       "#sk-container-id-6 label.sk-toggleable__label-arrow:hover:before {\n",
       "  color: var(--sklearn-color-text);\n",
       "}\n",
       "\n",
       "/* Toggleable content - dropdown */\n",
       "\n",
       "#sk-container-id-6 div.sk-toggleable__content {\n",
       "  max-height: 0;\n",
       "  max-width: 0;\n",
       "  overflow: hidden;\n",
       "  text-align: left;\n",
       "  /* unfitted */\n",
       "  background-color: var(--sklearn-color-unfitted-level-0);\n",
       "}\n",
       "\n",
       "#sk-container-id-6 div.sk-toggleable__content.fitted {\n",
       "  /* fitted */\n",
       "  background-color: var(--sklearn-color-fitted-level-0);\n",
       "}\n",
       "\n",
       "#sk-container-id-6 div.sk-toggleable__content pre {\n",
       "  margin: 0.2em;\n",
       "  border-radius: 0.25em;\n",
       "  color: var(--sklearn-color-text);\n",
       "  /* unfitted */\n",
       "  background-color: var(--sklearn-color-unfitted-level-0);\n",
       "}\n",
       "\n",
       "#sk-container-id-6 div.sk-toggleable__content.fitted pre {\n",
       "  /* unfitted */\n",
       "  background-color: var(--sklearn-color-fitted-level-0);\n",
       "}\n",
       "\n",
       "#sk-container-id-6 input.sk-toggleable__control:checked~div.sk-toggleable__content {\n",
       "  /* Expand drop-down */\n",
       "  max-height: 200px;\n",
       "  max-width: 100%;\n",
       "  overflow: auto;\n",
       "}\n",
       "\n",
       "#sk-container-id-6 input.sk-toggleable__control:checked~label.sk-toggleable__label-arrow:before {\n",
       "  content: \"▾\";\n",
       "}\n",
       "\n",
       "/* Pipeline/ColumnTransformer-specific style */\n",
       "\n",
       "#sk-container-id-6 div.sk-label input.sk-toggleable__control:checked~label.sk-toggleable__label {\n",
       "  color: var(--sklearn-color-text);\n",
       "  background-color: var(--sklearn-color-unfitted-level-2);\n",
       "}\n",
       "\n",
       "#sk-container-id-6 div.sk-label.fitted input.sk-toggleable__control:checked~label.sk-toggleable__label {\n",
       "  background-color: var(--sklearn-color-fitted-level-2);\n",
       "}\n",
       "\n",
       "/* Estimator-specific style */\n",
       "\n",
       "/* Colorize estimator box */\n",
       "#sk-container-id-6 div.sk-estimator input.sk-toggleable__control:checked~label.sk-toggleable__label {\n",
       "  /* unfitted */\n",
       "  background-color: var(--sklearn-color-unfitted-level-2);\n",
       "}\n",
       "\n",
       "#sk-container-id-6 div.sk-estimator.fitted input.sk-toggleable__control:checked~label.sk-toggleable__label {\n",
       "  /* fitted */\n",
       "  background-color: var(--sklearn-color-fitted-level-2);\n",
       "}\n",
       "\n",
       "#sk-container-id-6 div.sk-label label.sk-toggleable__label,\n",
       "#sk-container-id-6 div.sk-label label {\n",
       "  /* The background is the default theme color */\n",
       "  color: var(--sklearn-color-text-on-default-background);\n",
       "}\n",
       "\n",
       "/* On hover, darken the color of the background */\n",
       "#sk-container-id-6 div.sk-label:hover label.sk-toggleable__label {\n",
       "  color: var(--sklearn-color-text);\n",
       "  background-color: var(--sklearn-color-unfitted-level-2);\n",
       "}\n",
       "\n",
       "/* Label box, darken color on hover, fitted */\n",
       "#sk-container-id-6 div.sk-label.fitted:hover label.sk-toggleable__label.fitted {\n",
       "  color: var(--sklearn-color-text);\n",
       "  background-color: var(--sklearn-color-fitted-level-2);\n",
       "}\n",
       "\n",
       "/* Estimator label */\n",
       "\n",
       "#sk-container-id-6 div.sk-label label {\n",
       "  font-family: monospace;\n",
       "  font-weight: bold;\n",
       "  display: inline-block;\n",
       "  line-height: 1.2em;\n",
       "}\n",
       "\n",
       "#sk-container-id-6 div.sk-label-container {\n",
       "  text-align: center;\n",
       "}\n",
       "\n",
       "/* Estimator-specific */\n",
       "#sk-container-id-6 div.sk-estimator {\n",
       "  font-family: monospace;\n",
       "  border: 1px dotted var(--sklearn-color-border-box);\n",
       "  border-radius: 0.25em;\n",
       "  box-sizing: border-box;\n",
       "  margin-bottom: 0.5em;\n",
       "  /* unfitted */\n",
       "  background-color: var(--sklearn-color-unfitted-level-0);\n",
       "}\n",
       "\n",
       "#sk-container-id-6 div.sk-estimator.fitted {\n",
       "  /* fitted */\n",
       "  background-color: var(--sklearn-color-fitted-level-0);\n",
       "}\n",
       "\n",
       "/* on hover */\n",
       "#sk-container-id-6 div.sk-estimator:hover {\n",
       "  /* unfitted */\n",
       "  background-color: var(--sklearn-color-unfitted-level-2);\n",
       "}\n",
       "\n",
       "#sk-container-id-6 div.sk-estimator.fitted:hover {\n",
       "  /* fitted */\n",
       "  background-color: var(--sklearn-color-fitted-level-2);\n",
       "}\n",
       "\n",
       "/* Specification for estimator info (e.g. \"i\" and \"?\") */\n",
       "\n",
       "/* Common style for \"i\" and \"?\" */\n",
       "\n",
       ".sk-estimator-doc-link,\n",
       "a:link.sk-estimator-doc-link,\n",
       "a:visited.sk-estimator-doc-link {\n",
       "  float: right;\n",
       "  font-size: smaller;\n",
       "  line-height: 1em;\n",
       "  font-family: monospace;\n",
       "  background-color: var(--sklearn-color-background);\n",
       "  border-radius: 1em;\n",
       "  height: 1em;\n",
       "  width: 1em;\n",
       "  text-decoration: none !important;\n",
       "  margin-left: 1ex;\n",
       "  /* unfitted */\n",
       "  border: var(--sklearn-color-unfitted-level-1) 1pt solid;\n",
       "  color: var(--sklearn-color-unfitted-level-1);\n",
       "}\n",
       "\n",
       ".sk-estimator-doc-link.fitted,\n",
       "a:link.sk-estimator-doc-link.fitted,\n",
       "a:visited.sk-estimator-doc-link.fitted {\n",
       "  /* fitted */\n",
       "  border: var(--sklearn-color-fitted-level-1) 1pt solid;\n",
       "  color: var(--sklearn-color-fitted-level-1);\n",
       "}\n",
       "\n",
       "/* On hover */\n",
       "div.sk-estimator:hover .sk-estimator-doc-link:hover,\n",
       ".sk-estimator-doc-link:hover,\n",
       "div.sk-label-container:hover .sk-estimator-doc-link:hover,\n",
       ".sk-estimator-doc-link:hover {\n",
       "  /* unfitted */\n",
       "  background-color: var(--sklearn-color-unfitted-level-3);\n",
       "  color: var(--sklearn-color-background);\n",
       "  text-decoration: none;\n",
       "}\n",
       "\n",
       "div.sk-estimator.fitted:hover .sk-estimator-doc-link.fitted:hover,\n",
       ".sk-estimator-doc-link.fitted:hover,\n",
       "div.sk-label-container:hover .sk-estimator-doc-link.fitted:hover,\n",
       ".sk-estimator-doc-link.fitted:hover {\n",
       "  /* fitted */\n",
       "  background-color: var(--sklearn-color-fitted-level-3);\n",
       "  color: var(--sklearn-color-background);\n",
       "  text-decoration: none;\n",
       "}\n",
       "\n",
       "/* Span, style for the box shown on hovering the info icon */\n",
       ".sk-estimator-doc-link span {\n",
       "  display: none;\n",
       "  z-index: 9999;\n",
       "  position: relative;\n",
       "  font-weight: normal;\n",
       "  right: .2ex;\n",
       "  padding: .5ex;\n",
       "  margin: .5ex;\n",
       "  width: min-content;\n",
       "  min-width: 20ex;\n",
       "  max-width: 50ex;\n",
       "  color: var(--sklearn-color-text);\n",
       "  box-shadow: 2pt 2pt 4pt #999;\n",
       "  /* unfitted */\n",
       "  background: var(--sklearn-color-unfitted-level-0);\n",
       "  border: .5pt solid var(--sklearn-color-unfitted-level-3);\n",
       "}\n",
       "\n",
       ".sk-estimator-doc-link.fitted span {\n",
       "  /* fitted */\n",
       "  background: var(--sklearn-color-fitted-level-0);\n",
       "  border: var(--sklearn-color-fitted-level-3);\n",
       "}\n",
       "\n",
       ".sk-estimator-doc-link:hover span {\n",
       "  display: block;\n",
       "}\n",
       "\n",
       "/* \"?\"-specific style due to the `<a>` HTML tag */\n",
       "\n",
       "#sk-container-id-6 a.estimator_doc_link {\n",
       "  float: right;\n",
       "  font-size: 1rem;\n",
       "  line-height: 1em;\n",
       "  font-family: monospace;\n",
       "  background-color: var(--sklearn-color-background);\n",
       "  border-radius: 1rem;\n",
       "  height: 1rem;\n",
       "  width: 1rem;\n",
       "  text-decoration: none;\n",
       "  /* unfitted */\n",
       "  color: var(--sklearn-color-unfitted-level-1);\n",
       "  border: var(--sklearn-color-unfitted-level-1) 1pt solid;\n",
       "}\n",
       "\n",
       "#sk-container-id-6 a.estimator_doc_link.fitted {\n",
       "  /* fitted */\n",
       "  border: var(--sklearn-color-fitted-level-1) 1pt solid;\n",
       "  color: var(--sklearn-color-fitted-level-1);\n",
       "}\n",
       "\n",
       "/* On hover */\n",
       "#sk-container-id-6 a.estimator_doc_link:hover {\n",
       "  /* unfitted */\n",
       "  background-color: var(--sklearn-color-unfitted-level-3);\n",
       "  color: var(--sklearn-color-background);\n",
       "  text-decoration: none;\n",
       "}\n",
       "\n",
       "#sk-container-id-6 a.estimator_doc_link.fitted:hover {\n",
       "  /* fitted */\n",
       "  background-color: var(--sklearn-color-fitted-level-3);\n",
       "}\n",
       "</style><div id=\"sk-container-id-6\" class=\"sk-top-container\"><div class=\"sk-text-repr-fallback\"><pre>LogisticRegression(class_weight=&#x27;balanced&#x27;, max_iter=1000, random_state=42)</pre><b>In a Jupyter environment, please rerun this cell to show the HTML representation or trust the notebook. <br />On GitHub, the HTML representation is unable to render, please try loading this page with nbviewer.org.</b></div><div class=\"sk-container\" hidden><div class=\"sk-item\"><div class=\"sk-estimator fitted sk-toggleable\"><input class=\"sk-toggleable__control sk-hidden--visually\" id=\"sk-estimator-id-12\" type=\"checkbox\" checked><label for=\"sk-estimator-id-12\" class=\"sk-toggleable__label fitted sk-toggleable__label-arrow fitted\">&nbsp;&nbsp;LogisticRegression<a class=\"sk-estimator-doc-link fitted\" rel=\"noreferrer\" target=\"_blank\" href=\"https://scikit-learn.org/1.5/modules/generated/sklearn.linear_model.LogisticRegression.html\">?<span>Documentation for LogisticRegression</span></a><span class=\"sk-estimator-doc-link fitted\">i<span>Fitted</span></span></label><div class=\"sk-toggleable__content fitted\"><pre>LogisticRegression(class_weight=&#x27;balanced&#x27;, max_iter=1000, random_state=42)</pre></div> </div></div></div></div>"
      ],
      "text/plain": [
       "LogisticRegression(class_weight='balanced', max_iter=1000, random_state=42)"
      ]
     },
     "execution_count": 165,
     "metadata": {},
     "output_type": "execute_result"
    }
   ],
   "source": [
    "# Initialize Logistic Regression with class weight\n",
    "lr = LogisticRegression(max_iter=1000, random_state=42, class_weight='balanced')\n",
    "# Fit the model\n",
    "lr.fit(X_train, y_train)"
   ]
  },
  {
   "cell_type": "code",
   "execution_count": 166,
   "id": "1aaf3848-4b11-4fe4-ab25-fd90f7fc75ec",
   "metadata": {},
   "outputs": [],
   "source": [
    "# Predict on the test set\n",
    "y_pred_lr = lr.predict(X_test)\n"
   ]
  },
  {
   "cell_type": "markdown",
   "id": "7307e25f-9bbf-478d-b7e1-d3b0fa795675",
   "metadata": {},
   "source": [
    "## 5 Confusion Matrix Evaluation"
   ]
  },
  {
   "cell_type": "code",
   "execution_count": 167,
   "id": "3950daaa-6ecc-4d52-b217-4be2490bbaf0",
   "metadata": {},
   "outputs": [
    {
     "data": {
      "image/png": "[encoded data removed]",
      "text/plain": [
       "<Figure size 640x480 with 2 Axes>"
      ]
     },
     "metadata": {},
     "output_type": "display_data"
    }
   ],
   "source": [
    "# Confusion Matrix\n",
    "cm_lr = confusion_matrix(y_test, y_pred_lr)\n",
    "disp_lr = ConfusionMatrixDisplay(confusion_matrix=cm_lr)\n",
    "disp_lr.plot()\n",
    "plt.title(\"Logistic Regression Confusion Matrix\")\n",
    "plt.show()"
   ]
  },
  {
   "cell_type": "markdown",
   "id": "933b5153-8ee6-40c6-92af-d5bc5c370556",
   "metadata": {},
   "source": [
    "#### Performance Metrics"
   ]
  },
  {
   "cell_type": "code",
   "execution_count": 168,
   "id": "35b56bfc-89b5-498c-a715-36d1183006a7",
   "metadata": {},
   "outputs": [
    {
     "name": "stdout",
     "output_type": "stream",
     "text": [
      "Class distribution in y_train:\n",
      " stroke\n",
      "0    3771\n",
      "1     156\n",
      "Name: count, dtype: int64\n"
     ]
    }
   ],
   "source": [
    "# Check class distribution\n",
    "print(\"Class distribution in y_train:\\n\", y_train.value_counts())\n",
    "\n",
    "#Using  Random Over Sampler\n",
    "ros = RandomOverSampler(random_state=42)\n",
    "X_train, y_train = ros.fit_resample(X_train, y_train)"
   ]
  },
  {
   "cell_type": "code",
   "execution_count": 169,
   "id": "278388c5-cab7-484e-980d-d658f84362b9",
   "metadata": {},
   "outputs": [
    {
     "name": "stdout",
     "output_type": "stream",
     "text": [
      "Logistic Regression Metrics:\n",
      "Accuracy: 0.7393\n",
      "Precision: 0.1512\n",
      "Recall: 0.8302\n",
      "F1 Score: 0.2558\n",
      "ROC AUC Score: 0.8492\n"
     ]
    }
   ],
   "source": [
    "# Calculate metrics\n",
    "accuracy_lr = accuracy_score(y_test, y_pred_lr)\n",
    "precision_lr = precision_score(y_test, y_pred_lr)\n",
    "recall_lr = recall_score(y_test, y_pred_lr)\n",
    "f1_lr = f1_score(y_test, y_pred_lr)\n",
    "roc_auc = roc_auc_score(y_test, lr.predict_proba(X_test)[:, 1])  # ROC AUC Score\n",
    "\n",
    "# Print metrics\n",
    "print(f\"Logistic Regression Metrics:\")\n",
    "print(f\"Accuracy: {accuracy_lr:.4f}\")\n",
    "print(f\"Precision: {precision_lr:.4f}\")\n",
    "print(f\"Recall: {recall_lr:.4f}\")\n",
    "print(f\"F1 Score: {f1_lr:.4f}\")\n",
    "print(f\"ROC AUC Score: {roc_auc:.4f}\")"
   ]
  },
  {
   "cell_type": "markdown",
   "id": "8fa3915f-9189-4bd6-be93-85c2ea421e9b",
   "metadata": {},
   "source": [
    "Accuracy (0.7393): The model correctly predicted the outcomes 73.93% of the time. However, accuracy alone may not fully reflect performance due to imbalances in class distributions.\n",
    "\n",
    "Precision (0.1512): Out of all the positive predictions made by the model, only 15.12% were actually positive. A low precision indicates a high number of false positives (instances incorrectly predicted as positive).\n",
    "\n",
    "Recall (0.8302): The model was able to correctly identify 83.02% of the actual positive cases. High recall suggests the model is good at capturing true positives, though it comes at the cost of also predicting many false positives (low precision).\n",
    "\n",
    "F1 Score (0.2558): This metric balances precision and recall, giving a single score that represents the trade-off. The relatively low F1 score suggests that the precision-recall trade-off is not optimal for your model.\n",
    "\n",
    "ROC AUC Score (0.8492): The model has an 84.92% probability of distinguishing between the positive and negative classes. This high AUC score indicates that the model performs well in ranking positive instances higher than negative ones, despite precision being low."
   ]
  },
  {
   "cell_type": "markdown",
   "id": "d3d0af8d-7f8c-4b00-a0dd-a341ce8cef34",
   "metadata": {},
   "source": [
    "### 2. K-Nearest Neighbors Evaluation\n"
   ]
  },
  {
   "cell_type": "markdown",
   "id": "d1c1d324-7651-4211-98aa-4d3dd80a5c32",
   "metadata": {},
   "source": [
    "#### Predictions\n"
   ]
  },
  {
   "cell_type": "code",
   "execution_count": 170,
   "id": "cdf3e610-b91c-45d5-8b27-02eb1abfac48",
   "metadata": {},
   "outputs": [],
   "source": [
    "import pandas as pd\n",
    "from sklearn.model_selection import train_test_split, GridSearchCV\n",
    "from sklearn.neighbors import KNeighborsClassifier\n",
    "# Define the parameter grid\n",
    "param_grid_knn = {'n_neighbors': range(1, 21)}\n",
    "\n",
    "# Initialize the KNN model\n",
    "knn = KNeighborsClassifier()\n",
    "\n",
    "# Initialize GridSearchCV\n",
    "grid_search_knn = GridSearchCV(knn, param_grid_knn, cv=5, scoring='f1')\n",
    "\n",
    "# Fit the model using DataFrames\n",
    "grid_search_knn.fit(X_train, y_train)\n",
    "\n",
    "# Get the best KNN model\n",
    "best_knn = grid_search_knn.best_estimator_\n",
    "\n",
    "# Make predictions with consistent DataFrame format\n",
    "y_pred_knn = best_knn.predict(X_test)\n",
    "\n",
    "# Print the predictions\n",
    "#print(\"KNN Predictions:\", y_pred_knn)\n"
   ]
  },
  {
   "cell_type": "markdown",
   "id": "35c4bd07-a496-4be3-97d7-83715cde38b3",
   "metadata": {},
   "source": [
    "#### Confusion Matrix"
   ]
  },
  {
   "cell_type": "code",
   "execution_count": 171,
   "id": "5b662837-bd72-4646-95b4-f309294fc4f6",
   "metadata": {},
   "outputs": [
    {
     "data": {
      "image/png": "[encoded data removed]",
      "text/plain": [
       "<Figure size 640x480 with 2 Axes>"
      ]
     },
     "metadata": {},
     "output_type": "display_data"
    }
   ],
   "source": [
    "# Confusion Matrix\n",
    "cm_knn = confusion_matrix(y_test, y_pred_knn)\n",
    "disp_knn = ConfusionMatrixDisplay(confusion_matrix=cm_knn)\n",
    "disp_knn.plot()\n",
    "plt.title(\"K-Nearest Neighbors Confusion Matrix\")\n",
    "plt.show()"
   ]
  },
  {
   "cell_type": "markdown",
   "id": "ca3b5ca3-ee65-4870-9b5b-54dc90f75d75",
   "metadata": {},
   "source": [
    "## Performance Metrics\n"
   ]
  },
  {
   "cell_type": "code",
   "execution_count": 172,
   "id": "3883fa27-99e2-40f8-ad1a-d9d42c3a4a4f",
   "metadata": {},
   "outputs": [
    {
     "name": "stdout",
     "output_type": "stream",
     "text": [
      "K-Nearest Neighbors Metrics:\n",
      "Accuracy: 0.9114\n",
      "Precision: 0.1304\n",
      "Recall: 0.1132\n",
      "F1 Score: 0.1212\n"
     ]
    }
   ],
   "source": [
    "accuracy_knn = accuracy_score(y_test, y_pred_knn)\n",
    "precision_knn = precision_score(y_test, y_pred_knn)\n",
    "recall_knn = recall_score(y_test, y_pred_knn)\n",
    "f1_knn = f1_score(y_test, y_pred_knn)\n",
    "\n",
    "print(f\"K-Nearest Neighbors Metrics:\")\n",
    "print(f\"Accuracy: {accuracy_knn:.4f}\")\n",
    "print(f\"Precision: {precision_knn:.4f}\")\n",
    "print(f\"Recall: {recall_knn:.4f}\")\n",
    "print(f\"F1 Score: {f1_knn:.4f}\")"
   ]
  },
  {
   "cell_type": "markdown",
   "id": "273efbcc-c8e6-4379-a2b4-feebf354edd1",
   "metadata": {},
   "source": [
    "Accuracy (0.9114): The model correctly predicted the outcome 91.14% of the time. However, accuracy can be misleading if the dataset is imbalanced, as the model may predict the majority class more often.\n",
    "\n",
    "Precision (0.1304): Of all the positive predictions made by the model, only 13.04% were actual positives. This low precision suggests that the model predicts many false positives.\n",
    "\n",
    "Recall (0.1132): The model correctly identified only 11.32% of the actual positive cases. A low recall indicates that the model is missing many true positive instances, which means it has a high rate of false negatives.\n",
    "\n",
    "F1 Score (0.1212): The F1 score, which balances precision and recall, is low at 0.1212. This reflects poor performance in terms of both detecting true positives and avoiding false positives."
   ]
  },
  {
   "cell_type": "markdown",
   "id": "12c06104-efd3-434d-bede-88b4f52ba09f",
   "metadata": {},
   "source": [
    "## 5 Confusion Matrix Evaluation"
   ]
  },
  {
   "cell_type": "markdown",
   "id": "4bd7ecc7-1fb9-4890-ac0a-768aa6067ec1",
   "metadata": {},
   "source": [
    "#### Confusion matrix comparision of KNN and logistic regression"
   ]
  },
  {
   "cell_type": "markdown",
   "id": "25ff0f8b-5dc6-4d70-9c44-d0b036598c9e",
   "metadata": {},
   "source": [
    "**K-Nearest Neighbors (KNN) Confusion Matrix:**\n",
    "\n",
    "True Negatives (TN): 889\n",
    "\n",
    "False Positives (FP): 40\n",
    "\n",
    "False Negatives (FN): 47\n",
    "\n",
    "True Positives (TP): 6\n",
    "\n",
    "**Logistic Regression Confusion Matrix:**\n",
    "\n",
    "True Negatives (TN): 684\n",
    "\n",
    "False Positives (FP): 245\n",
    "\n",
    "False Negatives (FN): 9\n",
    "\n",
    "True Positives (TP): 44"
   ]
  },
  {
   "cell_type": "markdown",
   "id": "088cc325-2c2e-46a2-8c72-71be7087752a",
   "metadata": {},
   "source": [
    " #### differences between false positives (FP) and false negatives (FN) "
   ]
  },
  {
   "cell_type": "markdown",
   "id": "159ee446-5b23-49d1-99e8-61549175c55f",
   "metadata": {},
   "source": [
    "Comparing False Positives and False Negatives:\n",
    "\n",
    "**False Positives (FP)**:\n",
    "\n",
    "In KNN, the number of false positives is 40, which is lower compared to 245 in Logistic Regression.\n",
    "This means that Logistic Regression has a higher tendency to incorrectly classify a negative instance as positive compared to KNN.\n",
    "\n",
    "**False Negatives (FN)**:\n",
    "\n",
    "In KNN, the number of false negatives is 47, which is higher compared to 9 in Logistic Regression.\n",
    "This indicates that KNN is more likely to miss positive cases, while Logistic Regression does better in correctly identifying positive instances."
   ]
  },
  {
   "cell_type": "markdown",
   "id": "49240c21-2640-43c5-97d0-a620db5682df",
   "metadata": {},
   "source": [
    " **Real-world implications of FP and FN**\n",
    "\n",
    "In a healthcare setting where the goal is to predict whether a patient will suffer from a stroke,\n",
    "the implications of false positives and false negatives are critical. "
   ]
  },
  {
   "cell_type": "markdown",
   "id": "cdadf2d6-9718-4e91-8d4b-9a824e764834",
   "metadata": {},
   "source": [
    "**False Positives (FP):**\n",
    "\n",
    "**Real-World Impact:**\n",
    "\n",
    "**Psychological stress:** The patient may undergo unnecessary anxiety and stress after being wrongly informed they are at risk for a serious condition like stroke.\n",
    "\n",
    "**Unnecessary testing:** The patient may be subjected to further expensive diagnostic tests such as MRIs, CT scans, and blood work. While these tests are generally safe, they add an extra financial burden and may contribute to hospital overcrowding.\n",
    "\n",
    "**Medication risks:** In some cases, treatments or medications (such as anticoagulants) may be prescribed as a preventive measure, leading to side effects that were unnecessary in the first place.\n",
    "\n",
    "In this case, Logistic Regression has a higher FP rate (245), which means this model may trigger more of the unnecessary actions described above, leading to more wasted resources and undue stress on patients."
   ]
  },
  {
   "cell_type": "markdown",
   "id": "df8efb1e-7975-4f8c-bc69-d4b7a49d6bcd",
   "metadata": {},
   "source": [
    "**False Negatives (FN):**\n",
    "\n",
    "**Real-World Impact:**\n",
    "\n",
    "**Missed diagnosis:** A false negative can result in a stroke going undetected. Since strokes require immediate intervention, missing early signs could lead to severe consequences such as permanent disability or even death.\n",
    "\n",
    "**Delayed treatment:** The patient will not receive the necessary preventive treatment (such as lifestyle changes, medications, or monitoring). This delay in care could increase the likelihood of a stroke occurring.\n",
    "\n",
    "**Higher healthcare costs in the long term:** Once a stroke happens, the cost of treatment and rehabilitation is much higher than preventive care.\n",
    "\n",
    "In this case, KNN has a higher FN rate (47), meaning it is more likely to miss cases of patients actually at risk of stroke. This could have devastating consequences, as undiagnosed patients might not receive the preventive care they need. Logistic Regression performs better with a much lower FN rate (9), making it a more suitable model in terms of preventing real-world harm."
   ]
  },
  {
   "cell_type": "markdown",
   "id": "c82483f9-9d3e-4274-9b6c-e6c0fb22eb9d",
   "metadata": {},
   "source": [
    "In stroke prediction, false negatives are more dangerous than false positives, because failing to identify a patient at risk of stroke could have life-threatening consequences. Therefore, while Logistic Regression has a higher false positive rate, its ability to minimize false negatives makes it a more reliable choice in a healthcare context where safety and early detection are priorities."
   ]
  },
  {
   "cell_type": "markdown",
   "id": "26969108-e4f2-42f7-b893-054da25c1825",
   "metadata": {},
   "source": [
    "## Summary"
   ]
  },
  {
   "cell_type": "markdown",
   "id": "1379522b-564d-4efd-b2a1-077c5b9ff2b5",
   "metadata": {},
   "source": [
    "**Accuracy:** KNN performs better in terms of overall accuracy (91.1% vs. 74.1%), but this metric alone can be misleading, especially in datasets with imbalanced classes (e.g., stroke prediction where positive cases are rare).\n",
    "\n",
    "**Precision:** Both models have low precision, but Logistic Regression slightly outperforms KNN. However, this metric is less important in medical diagnostics, where we prioritize minimizing false negatives.\n"
   ]
  },
  {
   "cell_type": "markdown",
   "id": "6d2796f0-5345-4de0-a48d-bd7f00ee5a9a",
   "metadata": {},
   "source": [
    "## Conclusion"
   ]
  },
  {
   "cell_type": "markdown",
   "id": "e037bba5-8c65-4904-a3c0-1ec328e682a7",
   "metadata": {},
   "source": [
    "In the context of stroke prediction, Logistic Regression performs better than KNN. While KNN has a higher accuracy, its poor recall makes it unsuitable for this task. The high recall of Logistic Regression (83%) means it is much more reliable for identifying actual stroke cases, which is the primary objective in healthcare scenarios where false negatives can have serious, life-threatening consequences.\n",
    "Thus, Logistic Regression is the better model for your dataset."
   ]
  }
 ],
 "metadata": {
  "kernelspec": {
   "display_name": "Python 3 (ipykernel)",
   "language": "python",
   "name": "python3"
  },
  "language_info": {
   "codemirror_mode": {
    "name": "ipython",
    "version": 3
   },
   "file_extension": ".py",
   "mimetype": "text/x-python",
   "name": "python",
   "nbconvert_exporter": "python",
   "pygments_lexer": "ipython3",
   "version": "3.12.6"
  }
 },
 "nbformat": 4,
 "nbformat_minor": 5
}
